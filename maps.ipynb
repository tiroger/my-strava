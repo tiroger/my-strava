{
 "cells": [
  {
   "cell_type": "code",
   "execution_count": 113,
   "metadata": {},
   "outputs": [],
   "source": [
    "##################\n",
    "# Load libraries #\n",
    "##################\n",
    "\n",
    "from get_strava_data import my_data, process_data, get_elevation\n",
    "\n",
    "import requests\n",
    "\n",
    "import pandas as pd\n",
    "import numpy as np\n",
    "\n",
    "from PIL import Image\n",
    "import base64\n",
    "\n",
    "import ast\n",
    "import polyline\n",
    "\n",
    "import matplotlib.pyplot as plt\n",
    "import seaborn as sns\n",
    "import folium\n",
    "from folium import IFrame\n",
    "from folium.features import CustomIcon\n",
    "\n",
    "\n",
    "import plotly.express as px\n",
    "import plotly.graph_objects as go\n",
    "from plotly.validators.scatter.marker import SymbolValidator\n",
    "raw_symbols = SymbolValidator().values\n",
    "import streamlit as st\n"
   ]
  },
  {
   "cell_type": "code",
   "execution_count": 13,
   "metadata": {},
   "outputs": [
    {
     "name": "stdout",
     "output_type": "stream",
     "text": [
      "folium.__version__ 0.11.0\n"
     ]
    }
   ],
   "source": [
    "print(\"folium.__version__\",folium.__version__)"
   ]
  },
  {
   "cell_type": "code",
   "execution_count": 221,
   "metadata": {},
   "outputs": [],
   "source": [
    "polylines_df = pd.read_csv('./data/processed_data.csv', usecols=['name', 'distance', 'total_elevation_gain', 'average_speed', 'weighted_average_watts', 'suffer_score', 'year', 'month', 'day', 'type', 'map'])\n",
    "polylines_df = polylines_df[polylines_df.type == 'Ride'] # We'll only use rides which have a map\n",
    "\n",
    "ride_names = polylines_df.name\n",
    "\n",
    "\n",
    "# We'll choose rides by index to avoid duplicate names \n",
    "ride_index = 3\n",
    "decoded = pd.json_normalize(polylines_df[polylines_df.index == ride_index]['map'].apply(ast.literal_eval))['summary_polyline'].apply(polyline.decode).values[0]\n"
   ]
  },
  {
   "cell_type": "code",
   "execution_count": 222,
   "metadata": {},
   "outputs": [
    {
     "data": {
      "text/plain": [
       "[(37.78761, -122.27535),\n",
       " (37.78739, -122.27511),\n",
       " (37.78675, -122.2747),\n",
       " (37.78652, -122.27445),\n",
       " (37.78636, -122.27413),\n",
       " (37.78582, -122.27264),\n",
       " (37.78566, -122.27234),\n",
       " (37.7855, -122.27215),\n",
       " (37.78462, -122.2714),\n",
       " (37.78429, -122.2712),\n",
       " (37.78357, -122.27108),\n",
       " (37.7833, -122.2711),\n",
       " (37.78319, -122.27102),\n",
       " (37.78308, -122.2708),\n",
       " (37.78286, -122.27008),\n",
       " (37.78273, -122.26981),\n",
       " (37.78205, -122.26915),\n",
       " (37.78188, -122.26886),\n",
       " (37.78178, -122.26852),\n",
       " (37.78161, -122.26715),\n",
       " (37.7817, -122.2656),\n",
       " (37.78167, -122.26546),\n",
       " (37.78158, -122.26538),\n",
       " (37.78085, -122.26541),\n",
       " (37.78066, -122.26533),\n",
       " (37.78047, -122.26465),\n",
       " (37.78028, -122.26427),\n",
       " (37.78005, -122.26396),\n",
       " (37.77928, -122.26318),\n",
       " (37.77871, -122.26277),\n",
       " (37.77835, -122.26304),\n",
       " (37.77807, -122.26314),\n",
       " (37.77498, -122.26337),\n",
       " (37.77458, -122.26333),\n",
       " (37.77305, -122.26339),\n",
       " (37.77296, -122.26334),\n",
       " (37.77287, -122.26256),\n",
       " (37.77286, -122.26073),\n",
       " (37.77277, -122.25905),\n",
       " (37.77189, -122.25704),\n",
       " (37.77164, -122.25639),\n",
       " (37.77162, -122.2562),\n",
       " (37.77167, -122.25606),\n",
       " (37.77179, -122.25596),\n",
       " (37.77439, -122.25413),\n",
       " (37.77438, -122.25394),\n",
       " (37.77314, -122.25105),\n",
       " (37.77309, -122.2508),\n",
       " (37.77312, -122.25067),\n",
       " (37.77458, -122.24968),\n",
       " (37.77465, -122.24951),\n",
       " (37.77431, -122.24864),\n",
       " (37.77418, -122.24818),\n",
       " (37.77381, -122.24727),\n",
       " (37.77316, -122.24578),\n",
       " (37.77291, -122.24542),\n",
       " (37.77234, -122.24415),\n",
       " (37.77162, -122.24239),\n",
       " (37.7708, -122.24063),\n",
       " (37.77018, -122.23908),\n",
       " (37.76981, -122.23829),\n",
       " (37.76962, -122.23837),\n",
       " (37.76739, -122.24025),\n",
       " (37.76662, -122.2408),\n",
       " (37.76656, -122.24077),\n",
       " (37.76648, -122.24013),\n",
       " (37.76644, -122.23927),\n",
       " (37.76647, -122.23888),\n",
       " (37.76672, -122.23734),\n",
       " (37.76729, -122.2348),\n",
       " (37.76793, -122.23164),\n",
       " (37.76806, -122.23116),\n",
       " (37.76825, -122.23081),\n",
       " (37.7685, -122.23055),\n",
       " (37.76935, -122.2299),\n",
       " (37.76952, -122.22964),\n",
       " (37.77017, -122.22918),\n",
       " (37.77435, -122.22744),\n",
       " (37.77595, -122.22661),\n",
       " (37.77605, -122.22653),\n",
       " (37.77614, -122.22633),\n",
       " (37.7761, -122.22563),\n",
       " (37.77621, -122.22486),\n",
       " (37.77616, -122.22444),\n",
       " (37.77604, -122.22405),\n",
       " (37.77538, -122.22274),\n",
       " (37.77502, -122.22239),\n",
       " (37.77413, -122.2217),\n",
       " (37.77399, -122.22151),\n",
       " (37.77373, -122.22102),\n",
       " (37.77371, -122.22087),\n",
       " (37.77373, -122.22073),\n",
       " (37.77783, -122.21764),\n",
       " (37.77889, -122.21679),\n",
       " (37.77912, -122.21654),\n",
       " (37.78516, -122.20795),\n",
       " (37.78559, -122.20693),\n",
       " (37.78619, -122.20591),\n",
       " (37.78632, -122.20551),\n",
       " (37.78754, -122.20341),\n",
       " (37.78765, -122.2031),\n",
       " (37.78778, -122.20241),\n",
       " (37.78836, -122.20153),\n",
       " (37.78877, -122.20128),\n",
       " (37.78893, -122.2011),\n",
       " (37.79074, -122.19802),\n",
       " (37.79093, -122.19801),\n",
       " (37.79367, -122.20048),\n",
       " (37.7938, -122.20044),\n",
       " (37.79522, -122.19807),\n",
       " (37.79734, -122.1944),\n",
       " (37.79776, -122.19348),\n",
       " (37.79871, -122.19212),\n",
       " (37.79891, -122.19154),\n",
       " (37.79891, -122.19055),\n",
       " (37.79898, -122.19035),\n",
       " (37.79899, -122.18991),\n",
       " (37.79907, -122.18987),\n",
       " (37.79948, -122.18997),\n",
       " (37.80022, -122.19039),\n",
       " (37.80035, -122.19035),\n",
       " (37.80079, -122.19002),\n",
       " (37.80113, -122.18994),\n",
       " (37.80153, -122.19013),\n",
       " (37.80213, -122.19056),\n",
       " (37.80308, -122.19088),\n",
       " (37.80338, -122.19104),\n",
       " (37.8041, -122.19157),\n",
       " (37.80502, -122.19241),\n",
       " (37.80561, -122.1928),\n",
       " (37.80643, -122.19349),\n",
       " (37.80744, -122.19442),\n",
       " (37.80801, -122.19519),\n",
       " (37.80879, -122.19566),\n",
       " (37.80941, -122.19648),\n",
       " (37.80983, -122.19718),\n",
       " (37.81031, -122.1978),\n",
       " (37.81043, -122.19777),\n",
       " (37.81078, -122.19734),\n",
       " (37.81088, -122.19697),\n",
       " (37.81085, -122.19675),\n",
       " (37.81089, -122.19605),\n",
       " (37.81084, -122.19543),\n",
       " (37.81069, -122.19475),\n",
       " (37.81058, -122.1947),\n",
       " (37.81003, -122.19485),\n",
       " (37.80994, -122.19474),\n",
       " (37.80988, -122.19428),\n",
       " (37.80974, -122.1941),\n",
       " (37.80959, -122.19405),\n",
       " (37.8091, -122.1941),\n",
       " (37.80886, -122.19388),\n",
       " (37.80839, -122.19311),\n",
       " (37.80819, -122.19253),\n",
       " (37.80816, -122.19216),\n",
       " (37.80836, -122.1918),\n",
       " (37.80834, -122.19169),\n",
       " (37.80806, -122.19173),\n",
       " (37.80767, -122.1921),\n",
       " (37.80754, -122.19206),\n",
       " (37.80746, -122.19192),\n",
       " (37.80741, -122.19131),\n",
       " (37.80722, -122.19067),\n",
       " (37.80725, -122.19043),\n",
       " (37.80731, -122.19032),\n",
       " (37.80745, -122.1902),\n",
       " (37.80786, -122.19026),\n",
       " (37.80819, -122.18974),\n",
       " (37.80816, -122.18924),\n",
       " (37.80818, -122.1889),\n",
       " (37.80795, -122.18852),\n",
       " (37.80773, -122.18764),\n",
       " (37.80773, -122.18737),\n",
       " (37.80788, -122.18699),\n",
       " (37.80777, -122.18685),\n",
       " (37.80751, -122.18696),\n",
       " (37.80719, -122.18744),\n",
       " (37.80684, -122.18762),\n",
       " (37.80664, -122.18798),\n",
       " (37.80646, -122.18809),\n",
       " (37.80638, -122.18807),\n",
       " (37.80633, -122.18797),\n",
       " (37.80635, -122.18787),\n",
       " (37.80645, -122.18771),\n",
       " (37.80709, -122.18708),\n",
       " (37.80719, -122.18678),\n",
       " (37.80715, -122.18655),\n",
       " (37.80719, -122.18644),\n",
       " (37.80729, -122.18639),\n",
       " (37.80757, -122.18644),\n",
       " (37.80771, -122.1863),\n",
       " (37.80777, -122.18612),\n",
       " (37.80786, -122.18581),\n",
       " (37.80789, -122.18529),\n",
       " (37.80767, -122.18472),\n",
       " (37.80752, -122.18421),\n",
       " (37.80729, -122.1838),\n",
       " (37.80694, -122.18343),\n",
       " (37.80681, -122.18315),\n",
       " (37.80646, -122.1828),\n",
       " (37.80584, -122.18233),\n",
       " (37.80545, -122.18154),\n",
       " (37.80528, -122.18094),\n",
       " (37.80515, -122.18079),\n",
       " (37.80482, -122.18085),\n",
       " (37.80461, -122.18074),\n",
       " (37.80454, -122.18062),\n",
       " (37.80445, -122.18022),\n",
       " (37.80395, -122.17978),\n",
       " (37.80302, -122.17866),\n",
       " (37.80294, -122.17841),\n",
       " (37.80294, -122.17804),\n",
       " (37.80301, -122.17776),\n",
       " (37.80316, -122.17751),\n",
       " (37.80315, -122.17741),\n",
       " (37.80208, -122.17619),\n",
       " (37.80116, -122.17499),\n",
       " (37.79931, -122.17172),\n",
       " (37.79901, -122.17103),\n",
       " (37.79888, -122.1709),\n",
       " (37.79714, -122.17058),\n",
       " (37.79681, -122.17069),\n",
       " (37.79653, -122.17097),\n",
       " (37.79637, -122.1714),\n",
       " (37.79638, -122.17189),\n",
       " (37.7965, -122.17221),\n",
       " (37.79712, -122.17315),\n",
       " (37.79728, -122.17351),\n",
       " (37.79735, -122.17392),\n",
       " (37.79724, -122.17447),\n",
       " (37.79703, -122.17483),\n",
       " (37.79684, -122.175),\n",
       " (37.79542, -122.17572),\n",
       " (37.7948, -122.17609),\n",
       " (37.7946, -122.17632),\n",
       " (37.7945, -122.17652),\n",
       " (37.79439, -122.17706),\n",
       " (37.79446, -122.17749),\n",
       " (37.79457, -122.17777),\n",
       " (37.79569, -122.1792),\n",
       " (37.79608, -122.17988),\n",
       " (37.7963, -122.1806),\n",
       " (37.79648, -122.18203),\n",
       " (37.79663, -122.18239),\n",
       " (37.79695, -122.18276),\n",
       " (37.79761, -122.18307),\n",
       " (37.79785, -122.18328),\n",
       " (37.7981, -122.18368),\n",
       " (37.79851, -122.18477),\n",
       " (37.79896, -122.18682),\n",
       " (37.79909, -122.19144),\n",
       " (37.79887, -122.19215),\n",
       " (37.79791, -122.19359),\n",
       " (37.79752, -122.19443),\n",
       " (37.79717, -122.19506),\n",
       " (37.79469, -122.19924),\n",
       " (37.7939, -122.20067),\n",
       " (37.79465, -122.20144),\n",
       " (37.79713, -122.20447),\n",
       " (37.79743, -122.20488),\n",
       " (37.79772, -122.2055),\n",
       " (37.79872, -122.20778),\n",
       " (37.79857, -122.20867),\n",
       " (37.79858, -122.20895),\n",
       " (37.79985, -122.21391),\n",
       " (37.79995, -122.21395),\n",
       " (37.80243, -122.21143),\n",
       " (37.80281, -122.21101),\n",
       " (37.80277, -122.21087),\n",
       " (37.80285, -122.21095),\n",
       " (37.80284, -122.21102),\n",
       " (37.79992, -122.21404),\n",
       " (37.79982, -122.2142),\n",
       " (37.79958, -122.21443),\n",
       " (37.79916, -122.21504),\n",
       " (37.79892, -122.21522),\n",
       " (37.79839, -122.21547),\n",
       " (37.79842, -122.21591),\n",
       " (37.79866, -122.21686),\n",
       " (37.79861, -122.21699),\n",
       " (37.79853, -122.21707),\n",
       " (37.7974, -122.21738),\n",
       " (37.78409, -122.22266),\n",
       " (37.78054, -122.22441),\n",
       " (37.77832, -122.22554),\n",
       " (37.77458, -122.2275),\n",
       " (37.77321, -122.22811),\n",
       " (37.77064, -122.22908),\n",
       " (37.76896, -122.23036),\n",
       " (37.76842, -122.23086),\n",
       " (37.76825, -122.23112),\n",
       " (37.76815, -122.23142),\n",
       " (37.76786, -122.23282),\n",
       " (37.76787, -122.23298),\n",
       " (37.76794, -122.23311),\n",
       " (37.7684, -122.23331),\n",
       " (37.76872, -122.23374),\n",
       " (37.77066, -122.23745),\n",
       " (37.7715, -122.2394),\n",
       " (37.77152, -122.23948),\n",
       " (37.77147, -122.2396),\n",
       " (37.77076, -122.24011),\n",
       " (37.77073, -122.24021),\n",
       " (37.77444, -122.24877),\n",
       " (37.77621, -122.25279),\n",
       " (37.77621, -122.25296),\n",
       " (37.77614, -122.25305),\n",
       " (37.77468, -122.25406),\n",
       " (37.77458, -122.25421),\n",
       " (37.77608, -122.25765),\n",
       " (37.77646, -122.25877),\n",
       " (37.77664, -122.25955),\n",
       " (37.77672, -122.26015),\n",
       " (37.77684, -122.26255),\n",
       " (37.77689, -122.26297),\n",
       " (37.77697, -122.26307),\n",
       " (37.7771, -122.2631),\n",
       " (37.77802, -122.26308),\n",
       " (37.77828, -122.263),\n",
       " (37.7786, -122.26273),\n",
       " (37.77873, -122.26273),\n",
       " (37.77942, -122.26317),\n",
       " (37.78027, -122.26405),\n",
       " (37.78058, -122.26464),\n",
       " (37.78077, -122.26534),\n",
       " (37.78166, -122.26538),\n",
       " (37.78171, -122.26551),\n",
       " (37.78173, -122.26576),\n",
       " (37.78166, -122.26679),\n",
       " (37.78167, -122.26748),\n",
       " (37.78183, -122.26848),\n",
       " (37.78194, -122.26881),\n",
       " (37.78213, -122.26916),\n",
       " (37.78263, -122.26964),\n",
       " (37.78278, -122.26983),\n",
       " (37.78316, -122.27082),\n",
       " (37.78326, -122.27097),\n",
       " (37.78406, -122.27093),\n",
       " (37.78438, -122.27101),\n",
       " (37.78483, -122.27133),\n",
       " (37.78568, -122.27219),\n",
       " (37.78591, -122.27256),\n",
       " (37.78657, -122.27428),\n",
       " (37.78675, -122.27452),\n",
       " (37.78741, -122.27495),\n",
       " (37.78777, -122.27535)]"
      ]
     },
     "execution_count": 222,
     "metadata": {},
     "output_type": "execute_result"
    }
   ],
   "source": [
    "decoded"
   ]
  },
  {
   "cell_type": "code",
   "execution_count": 223,
   "metadata": {},
   "outputs": [
    {
     "data": {
      "text/html": [
       "<div>\n",
       "<style scoped>\n",
       "    .dataframe tbody tr th:only-of-type {\n",
       "        vertical-align: middle;\n",
       "    }\n",
       "\n",
       "    .dataframe tbody tr th {\n",
       "        vertical-align: top;\n",
       "    }\n",
       "\n",
       "    .dataframe thead th {\n",
       "        text-align: right;\n",
       "    }\n",
       "</style>\n",
       "<table border=\"1\" class=\"dataframe\">\n",
       "  <thead>\n",
       "    <tr style=\"text-align: right;\">\n",
       "      <th></th>\n",
       "      <th>name</th>\n",
       "      <th>distance</th>\n",
       "      <th>total_elevation_gain</th>\n",
       "      <th>type</th>\n",
       "      <th>map</th>\n",
       "      <th>average_speed</th>\n",
       "      <th>suffer_score</th>\n",
       "      <th>weighted_average_watts</th>\n",
       "      <th>year</th>\n",
       "      <th>month</th>\n",
       "      <th>day</th>\n",
       "    </tr>\n",
       "  </thead>\n",
       "  <tbody>\n",
       "    <tr>\n",
       "      <th>1</th>\n",
       "      <td>Afternoon Ride</td>\n",
       "      <td>18.1</td>\n",
       "      <td>167.3</td>\n",
       "      <td>Ride</td>\n",
       "      <td>{'id': 'a6962213592', 'summary_polyline': '{ks...</td>\n",
       "      <td>16.8</td>\n",
       "      <td>70.0</td>\n",
       "      <td>153.0</td>\n",
       "      <td>2022</td>\n",
       "      <td>4</td>\n",
       "      <td>10</td>\n",
       "    </tr>\n",
       "    <tr>\n",
       "      <th>2</th>\n",
       "      <td>Fun with the kiddos</td>\n",
       "      <td>4.0</td>\n",
       "      <td>7.5</td>\n",
       "      <td>Ride</td>\n",
       "      <td>{'id': 'a6956840241', 'summary_polyline': 'mus...</td>\n",
       "      <td>6.8</td>\n",
       "      <td>5.0</td>\n",
       "      <td>NaN</td>\n",
       "      <td>2022</td>\n",
       "      <td>4</td>\n",
       "      <td>9</td>\n",
       "    </tr>\n",
       "    <tr>\n",
       "      <th>3</th>\n",
       "      <td>Monterey - Butters</td>\n",
       "      <td>20.4</td>\n",
       "      <td>1355.0</td>\n",
       "      <td>Ride</td>\n",
       "      <td>{'id': 'a6955866591', 'summary_polyline': 'qks...</td>\n",
       "      <td>13.9</td>\n",
       "      <td>137.0</td>\n",
       "      <td>166.0</td>\n",
       "      <td>2022</td>\n",
       "      <td>4</td>\n",
       "      <td>9</td>\n",
       "    </tr>\n",
       "    <tr>\n",
       "      <th>5</th>\n",
       "      <td>Hot! Too hot! 🥵</td>\n",
       "      <td>18.3</td>\n",
       "      <td>128.0</td>\n",
       "      <td>Ride</td>\n",
       "      <td>{'id': 'a6947233958', 'summary_polyline': 'oks...</td>\n",
       "      <td>16.2</td>\n",
       "      <td>126.0</td>\n",
       "      <td>130.0</td>\n",
       "      <td>2022</td>\n",
       "      <td>4</td>\n",
       "      <td>7</td>\n",
       "    </tr>\n",
       "    <tr>\n",
       "      <th>7</th>\n",
       "      <td>Windy! 💨</td>\n",
       "      <td>19.3</td>\n",
       "      <td>265.7</td>\n",
       "      <td>Ride</td>\n",
       "      <td>{'id': 'a6937664224', 'summary_polyline': 'oks...</td>\n",
       "      <td>15.8</td>\n",
       "      <td>128.0</td>\n",
       "      <td>152.0</td>\n",
       "      <td>2022</td>\n",
       "      <td>4</td>\n",
       "      <td>5</td>\n",
       "    </tr>\n",
       "    <tr>\n",
       "      <th>...</th>\n",
       "      <td>...</td>\n",
       "      <td>...</td>\n",
       "      <td>...</td>\n",
       "      <td>...</td>\n",
       "      <td>...</td>\n",
       "      <td>...</td>\n",
       "      <td>...</td>\n",
       "      <td>...</td>\n",
       "      <td>...</td>\n",
       "      <td>...</td>\n",
       "      <td>...</td>\n",
       "    </tr>\n",
       "    <tr>\n",
       "      <th>718</th>\n",
       "      <td>06/16/2012 New York, NY</td>\n",
       "      <td>2.4</td>\n",
       "      <td>43.0</td>\n",
       "      <td>Ride</td>\n",
       "      <td>{'id': 'a11732689', 'summary_polyline': 'okkxF...</td>\n",
       "      <td>10.0</td>\n",
       "      <td>NaN</td>\n",
       "      <td>NaN</td>\n",
       "      <td>2012</td>\n",
       "      <td>6</td>\n",
       "      <td>16</td>\n",
       "    </tr>\n",
       "    <tr>\n",
       "      <th>719</th>\n",
       "      <td>06/03/2012 New York, NY - Tour de Brooklyn</td>\n",
       "      <td>34.8</td>\n",
       "      <td>534.1</td>\n",
       "      <td>Ride</td>\n",
       "      <td>{'id': 'a11732533', 'summary_polyline': 'gljxF...</td>\n",
       "      <td>9.5</td>\n",
       "      <td>NaN</td>\n",
       "      <td>NaN</td>\n",
       "      <td>2012</td>\n",
       "      <td>6</td>\n",
       "      <td>3</td>\n",
       "    </tr>\n",
       "    <tr>\n",
       "      <th>720</th>\n",
       "      <td>06/02/2012 New York, NY</td>\n",
       "      <td>12.4</td>\n",
       "      <td>283.5</td>\n",
       "      <td>Ride</td>\n",
       "      <td>{'id': 'a11732479', 'summary_polyline': 'wtlxF...</td>\n",
       "      <td>9.4</td>\n",
       "      <td>NaN</td>\n",
       "      <td>NaN</td>\n",
       "      <td>2012</td>\n",
       "      <td>6</td>\n",
       "      <td>2</td>\n",
       "    </tr>\n",
       "    <tr>\n",
       "      <th>721</th>\n",
       "      <td>05/26/2012 New York, NY</td>\n",
       "      <td>11.9</td>\n",
       "      <td>169.6</td>\n",
       "      <td>Ride</td>\n",
       "      <td>{'id': 'a11732411', 'summary_polyline': 'spjxF...</td>\n",
       "      <td>9.0</td>\n",
       "      <td>NaN</td>\n",
       "      <td>NaN</td>\n",
       "      <td>2012</td>\n",
       "      <td>5</td>\n",
       "      <td>26</td>\n",
       "    </tr>\n",
       "    <tr>\n",
       "      <th>722</th>\n",
       "      <td>05/16/2012 New York, NY</td>\n",
       "      <td>8.4</td>\n",
       "      <td>353.3</td>\n",
       "      <td>Ride</td>\n",
       "      <td>{'id': 'a11732225', 'summary_polyline': 'qikxF...</td>\n",
       "      <td>7.9</td>\n",
       "      <td>NaN</td>\n",
       "      <td>NaN</td>\n",
       "      <td>2012</td>\n",
       "      <td>5</td>\n",
       "      <td>16</td>\n",
       "    </tr>\n",
       "  </tbody>\n",
       "</table>\n",
       "<p>540 rows × 11 columns</p>\n",
       "</div>"
      ],
      "text/plain": [
       "                                           name  distance  \\\n",
       "1                                Afternoon Ride      18.1   \n",
       "2                           Fun with the kiddos       4.0   \n",
       "3                            Monterey - Butters      20.4   \n",
       "5                              Hot! Too hot! 🥵       18.3   \n",
       "7                                     Windy! 💨       19.3   \n",
       "..                                          ...       ...   \n",
       "718                     06/16/2012 New York, NY       2.4   \n",
       "719  06/03/2012 New York, NY - Tour de Brooklyn      34.8   \n",
       "720                     06/02/2012 New York, NY      12.4   \n",
       "721                     05/26/2012 New York, NY      11.9   \n",
       "722                     05/16/2012 New York, NY       8.4   \n",
       "\n",
       "     total_elevation_gain  type  \\\n",
       "1                   167.3  Ride   \n",
       "2                     7.5  Ride   \n",
       "3                  1355.0  Ride   \n",
       "5                   128.0  Ride   \n",
       "7                   265.7  Ride   \n",
       "..                    ...   ...   \n",
       "718                  43.0  Ride   \n",
       "719                 534.1  Ride   \n",
       "720                 283.5  Ride   \n",
       "721                 169.6  Ride   \n",
       "722                 353.3  Ride   \n",
       "\n",
       "                                                   map  average_speed  \\\n",
       "1    {'id': 'a6962213592', 'summary_polyline': '{ks...           16.8   \n",
       "2    {'id': 'a6956840241', 'summary_polyline': 'mus...            6.8   \n",
       "3    {'id': 'a6955866591', 'summary_polyline': 'qks...           13.9   \n",
       "5    {'id': 'a6947233958', 'summary_polyline': 'oks...           16.2   \n",
       "7    {'id': 'a6937664224', 'summary_polyline': 'oks...           15.8   \n",
       "..                                                 ...            ...   \n",
       "718  {'id': 'a11732689', 'summary_polyline': 'okkxF...           10.0   \n",
       "719  {'id': 'a11732533', 'summary_polyline': 'gljxF...            9.5   \n",
       "720  {'id': 'a11732479', 'summary_polyline': 'wtlxF...            9.4   \n",
       "721  {'id': 'a11732411', 'summary_polyline': 'spjxF...            9.0   \n",
       "722  {'id': 'a11732225', 'summary_polyline': 'qikxF...            7.9   \n",
       "\n",
       "     suffer_score  weighted_average_watts  year  month  day  \n",
       "1            70.0                   153.0  2022      4   10  \n",
       "2             5.0                     NaN  2022      4    9  \n",
       "3           137.0                   166.0  2022      4    9  \n",
       "5           126.0                   130.0  2022      4    7  \n",
       "7           128.0                   152.0  2022      4    5  \n",
       "..            ...                     ...   ...    ...  ...  \n",
       "718           NaN                     NaN  2012      6   16  \n",
       "719           NaN                     NaN  2012      6    3  \n",
       "720           NaN                     NaN  2012      6    2  \n",
       "721           NaN                     NaN  2012      5   26  \n",
       "722           NaN                     NaN  2012      5   16  \n",
       "\n",
       "[540 rows x 11 columns]"
      ]
     },
     "execution_count": 223,
     "metadata": {},
     "output_type": "execute_result"
    }
   ],
   "source": [
    "polylines_df"
   ]
  },
  {
   "cell_type": "code",
   "execution_count": 266,
   "metadata": {},
   "outputs": [
    {
     "data": {
      "text/html": [
       "<div>\n",
       "<style scoped>\n",
       "    .dataframe tbody tr th:only-of-type {\n",
       "        vertical-align: middle;\n",
       "    }\n",
       "\n",
       "    .dataframe tbody tr th {\n",
       "        vertical-align: top;\n",
       "    }\n",
       "\n",
       "    .dataframe thead th {\n",
       "        text-align: right;\n",
       "    }\n",
       "</style>\n",
       "<table border=\"1\" class=\"dataframe\">\n",
       "  <thead>\n",
       "    <tr style=\"text-align: right;\">\n",
       "      <th></th>\n",
       "      <th>name</th>\n",
       "      <th>distance</th>\n",
       "      <th>total_elevation_gain</th>\n",
       "      <th>type</th>\n",
       "      <th>map</th>\n",
       "      <th>average_speed</th>\n",
       "      <th>suffer_score</th>\n",
       "      <th>weighted_average_watts</th>\n",
       "      <th>year</th>\n",
       "      <th>month</th>\n",
       "      <th>day</th>\n",
       "      <th>decoded_polyline</th>\n",
       "    </tr>\n",
       "  </thead>\n",
       "  <tbody>\n",
       "    <tr>\n",
       "      <th>1</th>\n",
       "      <td>Afternoon Ride</td>\n",
       "      <td>18.1</td>\n",
       "      <td>167.3</td>\n",
       "      <td>Ride</td>\n",
       "      <td>{'id': 'a6962213592', 'summary_polyline': '{ks...</td>\n",
       "      <td>16.8</td>\n",
       "      <td>70.0</td>\n",
       "      <td>153.0</td>\n",
       "      <td>2022</td>\n",
       "      <td>4</td>\n",
       "      <td>10</td>\n",
       "      <td>[(37.78919, -122.28392), (37.7892, -122.28478)...</td>\n",
       "    </tr>\n",
       "    <tr>\n",
       "      <th>2</th>\n",
       "      <td>Fun with the kiddos</td>\n",
       "      <td>4.0</td>\n",
       "      <td>7.5</td>\n",
       "      <td>Ride</td>\n",
       "      <td>{'id': 'a6956840241', 'summary_polyline': 'mus...</td>\n",
       "      <td>6.8</td>\n",
       "      <td>5.0</td>\n",
       "      <td>NaN</td>\n",
       "      <td>2022</td>\n",
       "      <td>4</td>\n",
       "      <td>9</td>\n",
       "      <td>[(37.78761, -122.27535), (37.78739, -122.27511...</td>\n",
       "    </tr>\n",
       "    <tr>\n",
       "      <th>3</th>\n",
       "      <td>Monterey - Butters</td>\n",
       "      <td>20.4</td>\n",
       "      <td>1355.0</td>\n",
       "      <td>Ride</td>\n",
       "      <td>{'id': 'a6955866591', 'summary_polyline': 'qks...</td>\n",
       "      <td>13.9</td>\n",
       "      <td>137.0</td>\n",
       "      <td>166.0</td>\n",
       "      <td>2022</td>\n",
       "      <td>4</td>\n",
       "      <td>9</td>\n",
       "      <td>[(37.7876, -122.27535), (37.78727, -122.27502)...</td>\n",
       "    </tr>\n",
       "    <tr>\n",
       "      <th>5</th>\n",
       "      <td>Hot! Too hot! 🥵</td>\n",
       "      <td>18.3</td>\n",
       "      <td>128.0</td>\n",
       "      <td>Ride</td>\n",
       "      <td>{'id': 'a6947233958', 'summary_polyline': 'oks...</td>\n",
       "      <td>16.2</td>\n",
       "      <td>126.0</td>\n",
       "      <td>130.0</td>\n",
       "      <td>2022</td>\n",
       "      <td>4</td>\n",
       "      <td>7</td>\n",
       "      <td>[(37.78754, -122.27535), (37.78737, -122.27517...</td>\n",
       "    </tr>\n",
       "    <tr>\n",
       "      <th>7</th>\n",
       "      <td>Windy! 💨</td>\n",
       "      <td>19.3</td>\n",
       "      <td>265.7</td>\n",
       "      <td>Ride</td>\n",
       "      <td>{'id': 'a6937664224', 'summary_polyline': 'oks...</td>\n",
       "      <td>15.8</td>\n",
       "      <td>128.0</td>\n",
       "      <td>152.0</td>\n",
       "      <td>2022</td>\n",
       "      <td>4</td>\n",
       "      <td>5</td>\n",
       "      <td>[(37.78757, -122.27536), (37.78648, -122.27439...</td>\n",
       "    </tr>\n",
       "  </tbody>\n",
       "</table>\n",
       "</div>"
      ],
      "text/plain": [
       "                  name  distance  total_elevation_gain  type  \\\n",
       "1       Afternoon Ride      18.1                 167.3  Ride   \n",
       "2  Fun with the kiddos       4.0                   7.5  Ride   \n",
       "3   Monterey - Butters      20.4                1355.0  Ride   \n",
       "5     Hot! Too hot! 🥵       18.3                 128.0  Ride   \n",
       "7            Windy! 💨       19.3                 265.7  Ride   \n",
       "\n",
       "                                                 map  average_speed  \\\n",
       "1  {'id': 'a6962213592', 'summary_polyline': '{ks...           16.8   \n",
       "2  {'id': 'a6956840241', 'summary_polyline': 'mus...            6.8   \n",
       "3  {'id': 'a6955866591', 'summary_polyline': 'qks...           13.9   \n",
       "5  {'id': 'a6947233958', 'summary_polyline': 'oks...           16.2   \n",
       "7  {'id': 'a6937664224', 'summary_polyline': 'oks...           15.8   \n",
       "\n",
       "   suffer_score  weighted_average_watts  year  month  day  \\\n",
       "1          70.0                   153.0  2022      4   10   \n",
       "2           5.0                     NaN  2022      4    9   \n",
       "3         137.0                   166.0  2022      4    9   \n",
       "5         126.0                   130.0  2022      4    7   \n",
       "7         128.0                   152.0  2022      4    5   \n",
       "\n",
       "                                    decoded_polyline  \n",
       "1  [(37.78919, -122.28392), (37.7892, -122.28478)...  \n",
       "2  [(37.78761, -122.27535), (37.78739, -122.27511...  \n",
       "3  [(37.7876, -122.27535), (37.78727, -122.27502)...  \n",
       "5  [(37.78754, -122.27535), (37.78737, -122.27517...  \n",
       "7  [(37.78757, -122.27536), (37.78648, -122.27439...  "
      ]
     },
     "execution_count": 266,
     "metadata": {},
     "output_type": "execute_result"
    }
   ],
   "source": [
    "\n",
    "polylines_df['decoded_polyline'] = polylines_df['map'].apply(ast.literal_eval)\n",
    "polylines_df['decoded_polyline'] = pd.json_normalize(polylines_df['decoded_polyline'])['summary_polyline']\n",
    "# Dropping row with decoded_polyline = None\n",
    "polylines_df = polylines_df[polylines_df.decoded_polyline.notnull()]\n",
    "\n",
    "polylines_df['decoded_polyline'] = polylines_df['decoded_polyline'].apply(polyline.decode)\n",
    "\n",
    "polylines_df.head()"
   ]
  },
  {
   "cell_type": "code",
   "execution_count": null,
   "metadata": {},
   "outputs": [],
   "source": [
    "polylines_df['elevation_profile'] = polylines_df['decoded_polyline'].apply(get_elevation)"
   ]
  },
  {
   "cell_type": "code",
   "execution_count": 6,
   "metadata": {},
   "outputs": [
    {
     "data": {
      "image/png": "[encoded data removed]",
      "text/plain": [
       "<Figure size 720x288 with 1 Axes>"
      ]
     },
     "metadata": {
      "needs_background": "light"
     },
     "output_type": "display_data"
    }
   ],
   "source": [
    "# Adding elevation data from Open Street Map\n",
    "elevation_profile = [get_elevation(coord[0], coord[1]) for coord in decoded]\n",
    "elevation_profile_feet = [elevation_profile[i] * 3.28084 for i in range(len(elevation_profile))] # Converting elevation to feet"
   ]
  },
  {
   "cell_type": "code",
   "execution_count": 11,
   "metadata": {},
   "outputs": [
    {
     "data": {
      "image/png": "[encoded data removed]",
      "text/plain": [
       "<Figure size 720x288 with 1 Axes>"
      ]
     },
     "metadata": {
      "needs_background": "light"
     },
     "output_type": "display_data"
    }
   ],
   "source": [
    "# Plotting elevation data\n",
    "fig, ax = plt.subplots(figsize=(10, 4))\n",
    "ax = pd.Series(elevation_profile_feet).rolling(3).mean().plot(\n",
    "    ax=ax, \n",
    "    color='red', \n",
    "    legend=False\n",
    ")\n",
    "ax.set_ylabel('Elevation (ft)')\n",
    "ax.axes.xaxis.set_visible(False)\n",
    "ax.spines['top'].set_visible(False)\n",
    "ax.spines['right'].set_visible(False)\n",
    "# Saving plot\n",
    "plt.savefig('./data/elevation_profile.png', dpi=300)"
   ]
  },
  {
   "cell_type": "code",
   "execution_count": 15,
   "metadata": {},
   "outputs": [
    {
     "data": {
      "text/html": [
       "<div style=\"width:100%;\"><div style=\"position:relative;width:100%;height:0;padding-bottom:60%;\"><span style=\"color:#565656\">Make this Notebook Trusted to load map: File -> Trust Notebook</span><iframe src=\"about:blank\" style=\"position:absolute;width:100%;height:100%;left:0;top:0;border:none !important;\" data-html=%3C%21DOCTYPE%20html%3E%0A%3Chead%3E%20%20%20%20%0A%20%20%20%20%3Cmeta%20http-equiv%3D%22content-type%22%20content%3D%22text/html%3B%20charset%3DUTF-8%22%20/%3E%0A%20%20%20%20%0A%20%20%20%20%20%20%20%20%3Cscript%3E%0A%20%20%20%20%20%20%20%20%20%20%20%20L_NO_TOUCH%20%3D%20false%3B%0A%20%20%20%20%20%20%20%20%20%20%20%20L_DISABLE_3D%20%3D%20false%3B%0A%20%20%20%20%20%20%20%20%3C/script%3E%0A%20%20%20%20%0A%20%20%20%20%3Cscript%20src%3D%22https%3A//cdn.jsdelivr.net/npm/leaflet%401.6.0/dist/leaflet.js%22%3E%3C/script%3E%0A%20%20%20%20%3Cscript%20src%3D%22https%3A//code.jquery.com/jquery-1.12.4.min.js%22%3E%3C/script%3E%0A%20%20%20%20%3Cscript%20src%3D%22https%3A//maxcdn.bootstrapcdn.com/bootstrap/3.2.0/js/bootstrap.min.js%22%3E%3C/script%3E%0A%20%20%20%20%3Cscript%20src%3D%22https%3A//cdnjs.cloudflare.com/ajax/libs/Leaflet.awesome-markers/2.0.2/leaflet.awesome-markers.js%22%3E%3C/script%3E%0A%20%20%20%20%3Clink%20rel%3D%22stylesheet%22%20href%3D%22https%3A//cdn.jsdelivr.net/npm/leaflet%401.6.0/dist/leaflet.css%22/%3E%0A%20%20%20%20%3Clink%20rel%3D%22stylesheet%22%20href%3D%22https%3A//maxcdn.bootstrapcdn.com/bootstrap/3.2.0/css/bootstrap.min.css%22/%3E%0A%20%20%20%20%3Clink%20rel%3D%22stylesheet%22%20href%3D%22https%3A//maxcdn.bootstrapcdn.com/bootstrap/3.2.0/css/bootstrap-theme.min.css%22/%3E%0A%20%20%20%20%3Clink%20rel%3D%22stylesheet%22%20href%3D%22https%3A//maxcdn.bootstrapcdn.com/font-awesome/4.6.3/css/font-awesome.min.css%22/%3E%0A%20%20%20%20%3Clink%20rel%3D%22stylesheet%22%20href%3D%22https%3A//cdnjs.cloudflare.com/ajax/libs/Leaflet.awesome-markers/2.0.2/leaflet.awesome-markers.css%22/%3E%0A%20%20%20%20%3Clink%20rel%3D%22stylesheet%22%20href%3D%22https%3A//rawcdn.githack.com/python-visualization/folium/master/folium/templates/leaflet.awesome.rotate.css%22/%3E%0A%20%20%20%20%3Cstyle%3Ehtml%2C%20body%20%7Bwidth%3A%20100%25%3Bheight%3A%20100%25%3Bmargin%3A%200%3Bpadding%3A%200%3B%7D%3C/style%3E%0A%20%20%20%20%3Cstyle%3E%23map%20%7Bposition%3Aabsolute%3Btop%3A0%3Bbottom%3A0%3Bright%3A0%3Bleft%3A0%3B%7D%3C/style%3E%0A%20%20%20%20%0A%20%20%20%20%20%20%20%20%20%20%20%20%3Cmeta%20name%3D%22viewport%22%20content%3D%22width%3Ddevice-width%2C%0A%20%20%20%20%20%20%20%20%20%20%20%20%20%20%20%20initial-scale%3D1.0%2C%20maximum-scale%3D1.0%2C%20user-scalable%3Dno%22%20/%3E%0A%20%20%20%20%20%20%20%20%20%20%20%20%3Cstyle%3E%0A%20%20%20%20%20%20%20%20%20%20%20%20%20%20%20%20%23map_6c0be4cc9f464d2cbdd03e3ffebf5cb7%20%7B%0A%20%20%20%20%20%20%20%20%20%20%20%20%20%20%20%20%20%20%20%20position%3A%20relative%3B%0A%20%20%20%20%20%20%20%20%20%20%20%20%20%20%20%20%20%20%20%20width%3A%20100.0%25%3B%0A%20%20%20%20%20%20%20%20%20%20%20%20%20%20%20%20%20%20%20%20height%3A%20100.0%25%3B%0A%20%20%20%20%20%20%20%20%20%20%20%20%20%20%20%20%20%20%20%20left%3A%200.0%25%3B%0A%20%20%20%20%20%20%20%20%20%20%20%20%20%20%20%20%20%20%20%20top%3A%200.0%25%3B%0A%20%20%20%20%20%20%20%20%20%20%20%20%20%20%20%20%7D%0A%20%20%20%20%20%20%20%20%20%20%20%20%3C/style%3E%0A%20%20%20%20%20%20%20%20%0A%3C/head%3E%0A%3Cbody%3E%20%20%20%20%0A%20%20%20%20%0A%20%20%20%20%20%20%20%20%20%20%20%20%3Cdiv%20class%3D%22folium-map%22%20id%3D%22map_6c0be4cc9f464d2cbdd03e3ffebf5cb7%22%20%3E%3C/div%3E%0A%20%20%20%20%20%20%20%20%0A%3C/body%3E%0A%3Cscript%3E%20%20%20%20%0A%20%20%20%20%0A%20%20%20%20%20%20%20%20%20%20%20%20var%20map_6c0be4cc9f464d2cbdd03e3ffebf5cb7%20%3D%20L.map%28%0A%20%20%20%20%20%20%20%20%20%20%20%20%20%20%20%20%22map_6c0be4cc9f464d2cbdd03e3ffebf5cb7%22%2C%0A%20%20%20%20%20%20%20%20%20%20%20%20%20%20%20%20%7B%0A%20%20%20%20%20%20%20%20%20%20%20%20%20%20%20%20%20%20%20%20center%3A%20%5B37.79021786127168%2C%20-122.21877014450868%5D%2C%0A%20%20%20%20%20%20%20%20%20%20%20%20%20%20%20%20%20%20%20%20crs%3A%20L.CRS.EPSG3857%2C%0A%20%20%20%20%20%20%20%20%20%20%20%20%20%20%20%20%20%20%20%20zoom%3A%2013%2C%0A%20%20%20%20%20%20%20%20%20%20%20%20%20%20%20%20%20%20%20%20zoomControl%3A%20true%2C%0A%20%20%20%20%20%20%20%20%20%20%20%20%20%20%20%20%20%20%20%20preferCanvas%3A%20false%2C%0A%20%20%20%20%20%20%20%20%20%20%20%20%20%20%20%20%7D%0A%20%20%20%20%20%20%20%20%20%20%20%20%29%3B%0A%0A%20%20%20%20%20%20%20%20%20%20%20%20%0A%0A%20%20%20%20%20%20%20%20%0A%20%20%20%20%0A%20%20%20%20%20%20%20%20%20%20%20%20var%20tile_layer_71eb0f03be0a4c23ad127b415c122964%20%3D%20L.tileLayer%28%0A%20%20%20%20%20%20%20%20%20%20%20%20%20%20%20%20%22https%3A//%7Bs%7D.tile.openstreetmap.org/%7Bz%7D/%7Bx%7D/%7By%7D.png%22%2C%0A%20%20%20%20%20%20%20%20%20%20%20%20%20%20%20%20%7B%22attribution%22%3A%20%22Data%20by%20%5Cu0026copy%3B%20%5Cu003ca%20href%3D%5C%22http%3A//openstreetmap.org%5C%22%5Cu003eOpenStreetMap%5Cu003c/a%5Cu003e%2C%20under%20%5Cu003ca%20href%3D%5C%22http%3A//www.openstreetmap.org/copyright%5C%22%5Cu003eODbL%5Cu003c/a%5Cu003e.%22%2C%20%22detectRetina%22%3A%20false%2C%20%22maxNativeZoom%22%3A%2018%2C%20%22maxZoom%22%3A%2018%2C%20%22minZoom%22%3A%200%2C%20%22noWrap%22%3A%20false%2C%20%22opacity%22%3A%201%2C%20%22subdomains%22%3A%20%22abc%22%2C%20%22tms%22%3A%20false%7D%0A%20%20%20%20%20%20%20%20%20%20%20%20%29.addTo%28map_6c0be4cc9f464d2cbdd03e3ffebf5cb7%29%3B%0A%20%20%20%20%20%20%20%20%0A%20%20%20%20%0A%20%20%20%20%20%20%20%20%20%20%20%20var%20poly_line_94230090b7464be491266303111733da%20%3D%20L.polyline%28%0A%20%20%20%20%20%20%20%20%20%20%20%20%20%20%20%20%5B%5B37.78761%2C%20-122.27535%5D%2C%20%5B37.78739%2C%20-122.27511%5D%2C%20%5B37.78675%2C%20-122.2747%5D%2C%20%5B37.78652%2C%20-122.27445%5D%2C%20%5B37.78636%2C%20-122.27413%5D%2C%20%5B37.78582%2C%20-122.27264%5D%2C%20%5B37.78566%2C%20-122.27234%5D%2C%20%5B37.7855%2C%20-122.27215%5D%2C%20%5B37.78462%2C%20-122.2714%5D%2C%20%5B37.78429%2C%20-122.2712%5D%2C%20%5B37.78357%2C%20-122.27108%5D%2C%20%5B37.7833%2C%20-122.2711%5D%2C%20%5B37.78319%2C%20-122.27102%5D%2C%20%5B37.78308%2C%20-122.2708%5D%2C%20%5B37.78286%2C%20-122.27008%5D%2C%20%5B37.78273%2C%20-122.26981%5D%2C%20%5B37.78205%2C%20-122.26915%5D%2C%20%5B37.78188%2C%20-122.26886%5D%2C%20%5B37.78178%2C%20-122.26852%5D%2C%20%5B37.78161%2C%20-122.26715%5D%2C%20%5B37.7817%2C%20-122.2656%5D%2C%20%5B37.78167%2C%20-122.26546%5D%2C%20%5B37.78158%2C%20-122.26538%5D%2C%20%5B37.78085%2C%20-122.26541%5D%2C%20%5B37.78066%2C%20-122.26533%5D%2C%20%5B37.78047%2C%20-122.26465%5D%2C%20%5B37.78028%2C%20-122.26427%5D%2C%20%5B37.78005%2C%20-122.26396%5D%2C%20%5B37.77928%2C%20-122.26318%5D%2C%20%5B37.77871%2C%20-122.26277%5D%2C%20%5B37.77835%2C%20-122.26304%5D%2C%20%5B37.77807%2C%20-122.26314%5D%2C%20%5B37.77498%2C%20-122.26337%5D%2C%20%5B37.77458%2C%20-122.26333%5D%2C%20%5B37.77305%2C%20-122.26339%5D%2C%20%5B37.77296%2C%20-122.26334%5D%2C%20%5B37.77287%2C%20-122.26256%5D%2C%20%5B37.77286%2C%20-122.26073%5D%2C%20%5B37.77277%2C%20-122.25905%5D%2C%20%5B37.77189%2C%20-122.25704%5D%2C%20%5B37.77164%2C%20-122.25639%5D%2C%20%5B37.77162%2C%20-122.2562%5D%2C%20%5B37.77167%2C%20-122.25606%5D%2C%20%5B37.77179%2C%20-122.25596%5D%2C%20%5B37.77439%2C%20-122.25413%5D%2C%20%5B37.77438%2C%20-122.25394%5D%2C%20%5B37.77314%2C%20-122.25105%5D%2C%20%5B37.77309%2C%20-122.2508%5D%2C%20%5B37.77312%2C%20-122.25067%5D%2C%20%5B37.77458%2C%20-122.24968%5D%2C%20%5B37.77465%2C%20-122.24951%5D%2C%20%5B37.77431%2C%20-122.24864%5D%2C%20%5B37.77418%2C%20-122.24818%5D%2C%20%5B37.77381%2C%20-122.24727%5D%2C%20%5B37.77316%2C%20-122.24578%5D%2C%20%5B37.77291%2C%20-122.24542%5D%2C%20%5B37.77234%2C%20-122.24415%5D%2C%20%5B37.77162%2C%20-122.24239%5D%2C%20%5B37.7708%2C%20-122.24063%5D%2C%20%5B37.77018%2C%20-122.23908%5D%2C%20%5B37.76981%2C%20-122.23829%5D%2C%20%5B37.76962%2C%20-122.23837%5D%2C%20%5B37.76739%2C%20-122.24025%5D%2C%20%5B37.76662%2C%20-122.2408%5D%2C%20%5B37.76656%2C%20-122.24077%5D%2C%20%5B37.76648%2C%20-122.24013%5D%2C%20%5B37.76644%2C%20-122.23927%5D%2C%20%5B37.76647%2C%20-122.23888%5D%2C%20%5B37.76672%2C%20-122.23734%5D%2C%20%5B37.76729%2C%20-122.2348%5D%2C%20%5B37.76793%2C%20-122.23164%5D%2C%20%5B37.76806%2C%20-122.23116%5D%2C%20%5B37.76825%2C%20-122.23081%5D%2C%20%5B37.7685%2C%20-122.23055%5D%2C%20%5B37.76935%2C%20-122.2299%5D%2C%20%5B37.76952%2C%20-122.22964%5D%2C%20%5B37.77017%2C%20-122.22918%5D%2C%20%5B37.77435%2C%20-122.22744%5D%2C%20%5B37.77595%2C%20-122.22661%5D%2C%20%5B37.77605%2C%20-122.22653%5D%2C%20%5B37.77614%2C%20-122.22633%5D%2C%20%5B37.7761%2C%20-122.22563%5D%2C%20%5B37.77621%2C%20-122.22486%5D%2C%20%5B37.77616%2C%20-122.22444%5D%2C%20%5B37.77604%2C%20-122.22405%5D%2C%20%5B37.77538%2C%20-122.22274%5D%2C%20%5B37.77502%2C%20-122.22239%5D%2C%20%5B37.77413%2C%20-122.2217%5D%2C%20%5B37.77399%2C%20-122.22151%5D%2C%20%5B37.77373%2C%20-122.22102%5D%2C%20%5B37.77371%2C%20-122.22087%5D%2C%20%5B37.77373%2C%20-122.22073%5D%2C%20%5B37.77783%2C%20-122.21764%5D%2C%20%5B37.77889%2C%20-122.21679%5D%2C%20%5B37.77912%2C%20-122.21654%5D%2C%20%5B37.78516%2C%20-122.20795%5D%2C%20%5B37.78559%2C%20-122.20693%5D%2C%20%5B37.78619%2C%20-122.20591%5D%2C%20%5B37.78632%2C%20-122.20551%5D%2C%20%5B37.78754%2C%20-122.20341%5D%2C%20%5B37.78765%2C%20-122.2031%5D%2C%20%5B37.78778%2C%20-122.20241%5D%2C%20%5B37.78836%2C%20-122.20153%5D%2C%20%5B37.78877%2C%20-122.20128%5D%2C%20%5B37.78893%2C%20-122.2011%5D%2C%20%5B37.79074%2C%20-122.19802%5D%2C%20%5B37.79093%2C%20-122.19801%5D%2C%20%5B37.79367%2C%20-122.20048%5D%2C%20%5B37.7938%2C%20-122.20044%5D%2C%20%5B37.79522%2C%20-122.19807%5D%2C%20%5B37.79734%2C%20-122.1944%5D%2C%20%5B37.79776%2C%20-122.19348%5D%2C%20%5B37.79871%2C%20-122.19212%5D%2C%20%5B37.79891%2C%20-122.19154%5D%2C%20%5B37.79891%2C%20-122.19055%5D%2C%20%5B37.79898%2C%20-122.19035%5D%2C%20%5B37.79899%2C%20-122.18991%5D%2C%20%5B37.79907%2C%20-122.18987%5D%2C%20%5B37.79948%2C%20-122.18997%5D%2C%20%5B37.80022%2C%20-122.19039%5D%2C%20%5B37.80035%2C%20-122.19035%5D%2C%20%5B37.80079%2C%20-122.19002%5D%2C%20%5B37.80113%2C%20-122.18994%5D%2C%20%5B37.80153%2C%20-122.19013%5D%2C%20%5B37.80213%2C%20-122.19056%5D%2C%20%5B37.80308%2C%20-122.19088%5D%2C%20%5B37.80338%2C%20-122.19104%5D%2C%20%5B37.8041%2C%20-122.19157%5D%2C%20%5B37.80502%2C%20-122.19241%5D%2C%20%5B37.80561%2C%20-122.1928%5D%2C%20%5B37.80643%2C%20-122.19349%5D%2C%20%5B37.80744%2C%20-122.19442%5D%2C%20%5B37.80801%2C%20-122.19519%5D%2C%20%5B37.80879%2C%20-122.19566%5D%2C%20%5B37.80941%2C%20-122.19648%5D%2C%20%5B37.80983%2C%20-122.19718%5D%2C%20%5B37.81031%2C%20-122.1978%5D%2C%20%5B37.81043%2C%20-122.19777%5D%2C%20%5B37.81078%2C%20-122.19734%5D%2C%20%5B37.81088%2C%20-122.19697%5D%2C%20%5B37.81085%2C%20-122.19675%5D%2C%20%5B37.81089%2C%20-122.19605%5D%2C%20%5B37.81084%2C%20-122.19543%5D%2C%20%5B37.81069%2C%20-122.19475%5D%2C%20%5B37.81058%2C%20-122.1947%5D%2C%20%5B37.81003%2C%20-122.19485%5D%2C%20%5B37.80994%2C%20-122.19474%5D%2C%20%5B37.80988%2C%20-122.19428%5D%2C%20%5B37.80974%2C%20-122.1941%5D%2C%20%5B37.80959%2C%20-122.19405%5D%2C%20%5B37.8091%2C%20-122.1941%5D%2C%20%5B37.80886%2C%20-122.19388%5D%2C%20%5B37.80839%2C%20-122.19311%5D%2C%20%5B37.80819%2C%20-122.19253%5D%2C%20%5B37.80816%2C%20-122.19216%5D%2C%20%5B37.80836%2C%20-122.1918%5D%2C%20%5B37.80834%2C%20-122.19169%5D%2C%20%5B37.80806%2C%20-122.19173%5D%2C%20%5B37.80767%2C%20-122.1921%5D%2C%20%5B37.80754%2C%20-122.19206%5D%2C%20%5B37.80746%2C%20-122.19192%5D%2C%20%5B37.80741%2C%20-122.19131%5D%2C%20%5B37.80722%2C%20-122.19067%5D%2C%20%5B37.80725%2C%20-122.19043%5D%2C%20%5B37.80731%2C%20-122.19032%5D%2C%20%5B37.80745%2C%20-122.1902%5D%2C%20%5B37.80786%2C%20-122.19026%5D%2C%20%5B37.80819%2C%20-122.18974%5D%2C%20%5B37.80816%2C%20-122.18924%5D%2C%20%5B37.80818%2C%20-122.1889%5D%2C%20%5B37.80795%2C%20-122.18852%5D%2C%20%5B37.80773%2C%20-122.18764%5D%2C%20%5B37.80773%2C%20-122.18737%5D%2C%20%5B37.80788%2C%20-122.18699%5D%2C%20%5B37.80777%2C%20-122.18685%5D%2C%20%5B37.80751%2C%20-122.18696%5D%2C%20%5B37.80719%2C%20-122.18744%5D%2C%20%5B37.80684%2C%20-122.18762%5D%2C%20%5B37.80664%2C%20-122.18798%5D%2C%20%5B37.80646%2C%20-122.18809%5D%2C%20%5B37.80638%2C%20-122.18807%5D%2C%20%5B37.80633%2C%20-122.18797%5D%2C%20%5B37.80635%2C%20-122.18787%5D%2C%20%5B37.80645%2C%20-122.18771%5D%2C%20%5B37.80709%2C%20-122.18708%5D%2C%20%5B37.80719%2C%20-122.18678%5D%2C%20%5B37.80715%2C%20-122.18655%5D%2C%20%5B37.80719%2C%20-122.18644%5D%2C%20%5B37.80729%2C%20-122.18639%5D%2C%20%5B37.80757%2C%20-122.18644%5D%2C%20%5B37.80771%2C%20-122.1863%5D%2C%20%5B37.80777%2C%20-122.18612%5D%2C%20%5B37.80786%2C%20-122.18581%5D%2C%20%5B37.80789%2C%20-122.18529%5D%2C%20%5B37.80767%2C%20-122.18472%5D%2C%20%5B37.80752%2C%20-122.18421%5D%2C%20%5B37.80729%2C%20-122.1838%5D%2C%20%5B37.80694%2C%20-122.18343%5D%2C%20%5B37.80681%2C%20-122.18315%5D%2C%20%5B37.80646%2C%20-122.1828%5D%2C%20%5B37.80584%2C%20-122.18233%5D%2C%20%5B37.80545%2C%20-122.18154%5D%2C%20%5B37.80528%2C%20-122.18094%5D%2C%20%5B37.80515%2C%20-122.18079%5D%2C%20%5B37.80482%2C%20-122.18085%5D%2C%20%5B37.80461%2C%20-122.18074%5D%2C%20%5B37.80454%2C%20-122.18062%5D%2C%20%5B37.80445%2C%20-122.18022%5D%2C%20%5B37.80395%2C%20-122.17978%5D%2C%20%5B37.80302%2C%20-122.17866%5D%2C%20%5B37.80294%2C%20-122.17841%5D%2C%20%5B37.80294%2C%20-122.17804%5D%2C%20%5B37.80301%2C%20-122.17776%5D%2C%20%5B37.80316%2C%20-122.17751%5D%2C%20%5B37.80315%2C%20-122.17741%5D%2C%20%5B37.80208%2C%20-122.17619%5D%2C%20%5B37.80116%2C%20-122.17499%5D%2C%20%5B37.79931%2C%20-122.17172%5D%2C%20%5B37.79901%2C%20-122.17103%5D%2C%20%5B37.79888%2C%20-122.1709%5D%2C%20%5B37.79714%2C%20-122.17058%5D%2C%20%5B37.79681%2C%20-122.17069%5D%2C%20%5B37.79653%2C%20-122.17097%5D%2C%20%5B37.79637%2C%20-122.1714%5D%2C%20%5B37.79638%2C%20-122.17189%5D%2C%20%5B37.7965%2C%20-122.17221%5D%2C%20%5B37.79712%2C%20-122.17315%5D%2C%20%5B37.79728%2C%20-122.17351%5D%2C%20%5B37.79735%2C%20-122.17392%5D%2C%20%5B37.79724%2C%20-122.17447%5D%2C%20%5B37.79703%2C%20-122.17483%5D%2C%20%5B37.79684%2C%20-122.175%5D%2C%20%5B37.79542%2C%20-122.17572%5D%2C%20%5B37.7948%2C%20-122.17609%5D%2C%20%5B37.7946%2C%20-122.17632%5D%2C%20%5B37.7945%2C%20-122.17652%5D%2C%20%5B37.79439%2C%20-122.17706%5D%2C%20%5B37.79446%2C%20-122.17749%5D%2C%20%5B37.79457%2C%20-122.17777%5D%2C%20%5B37.79569%2C%20-122.1792%5D%2C%20%5B37.79608%2C%20-122.17988%5D%2C%20%5B37.7963%2C%20-122.1806%5D%2C%20%5B37.79648%2C%20-122.18203%5D%2C%20%5B37.79663%2C%20-122.18239%5D%2C%20%5B37.79695%2C%20-122.18276%5D%2C%20%5B37.79761%2C%20-122.18307%5D%2C%20%5B37.79785%2C%20-122.18328%5D%2C%20%5B37.7981%2C%20-122.18368%5D%2C%20%5B37.79851%2C%20-122.18477%5D%2C%20%5B37.79896%2C%20-122.18682%5D%2C%20%5B37.79909%2C%20-122.19144%5D%2C%20%5B37.79887%2C%20-122.19215%5D%2C%20%5B37.79791%2C%20-122.19359%5D%2C%20%5B37.79752%2C%20-122.19443%5D%2C%20%5B37.79717%2C%20-122.19506%5D%2C%20%5B37.79469%2C%20-122.19924%5D%2C%20%5B37.7939%2C%20-122.20067%5D%2C%20%5B37.79465%2C%20-122.20144%5D%2C%20%5B37.79713%2C%20-122.20447%5D%2C%20%5B37.79743%2C%20-122.20488%5D%2C%20%5B37.79772%2C%20-122.2055%5D%2C%20%5B37.79872%2C%20-122.20778%5D%2C%20%5B37.79857%2C%20-122.20867%5D%2C%20%5B37.79858%2C%20-122.20895%5D%2C%20%5B37.79985%2C%20-122.21391%5D%2C%20%5B37.79995%2C%20-122.21395%5D%2C%20%5B37.80243%2C%20-122.21143%5D%2C%20%5B37.80281%2C%20-122.21101%5D%2C%20%5B37.80277%2C%20-122.21087%5D%2C%20%5B37.80285%2C%20-122.21095%5D%2C%20%5B37.80284%2C%20-122.21102%5D%2C%20%5B37.79992%2C%20-122.21404%5D%2C%20%5B37.79982%2C%20-122.2142%5D%2C%20%5B37.79958%2C%20-122.21443%5D%2C%20%5B37.79916%2C%20-122.21504%5D%2C%20%5B37.79892%2C%20-122.21522%5D%2C%20%5B37.79839%2C%20-122.21547%5D%2C%20%5B37.79842%2C%20-122.21591%5D%2C%20%5B37.79866%2C%20-122.21686%5D%2C%20%5B37.79861%2C%20-122.21699%5D%2C%20%5B37.79853%2C%20-122.21707%5D%2C%20%5B37.7974%2C%20-122.21738%5D%2C%20%5B37.78409%2C%20-122.22266%5D%2C%20%5B37.78054%2C%20-122.22441%5D%2C%20%5B37.77832%2C%20-122.22554%5D%2C%20%5B37.77458%2C%20-122.2275%5D%2C%20%5B37.77321%2C%20-122.22811%5D%2C%20%5B37.77064%2C%20-122.22908%5D%2C%20%5B37.76896%2C%20-122.23036%5D%2C%20%5B37.76842%2C%20-122.23086%5D%2C%20%5B37.76825%2C%20-122.23112%5D%2C%20%5B37.76815%2C%20-122.23142%5D%2C%20%5B37.76786%2C%20-122.23282%5D%2C%20%5B37.76787%2C%20-122.23298%5D%2C%20%5B37.76794%2C%20-122.23311%5D%2C%20%5B37.7684%2C%20-122.23331%5D%2C%20%5B37.76872%2C%20-122.23374%5D%2C%20%5B37.77066%2C%20-122.23745%5D%2C%20%5B37.7715%2C%20-122.2394%5D%2C%20%5B37.77152%2C%20-122.23948%5D%2C%20%5B37.77147%2C%20-122.2396%5D%2C%20%5B37.77076%2C%20-122.24011%5D%2C%20%5B37.77073%2C%20-122.24021%5D%2C%20%5B37.77444%2C%20-122.24877%5D%2C%20%5B37.77621%2C%20-122.25279%5D%2C%20%5B37.77621%2C%20-122.25296%5D%2C%20%5B37.77614%2C%20-122.25305%5D%2C%20%5B37.77468%2C%20-122.25406%5D%2C%20%5B37.77458%2C%20-122.25421%5D%2C%20%5B37.77608%2C%20-122.25765%5D%2C%20%5B37.77646%2C%20-122.25877%5D%2C%20%5B37.77664%2C%20-122.25955%5D%2C%20%5B37.77672%2C%20-122.26015%5D%2C%20%5B37.77684%2C%20-122.26255%5D%2C%20%5B37.77689%2C%20-122.26297%5D%2C%20%5B37.77697%2C%20-122.26307%5D%2C%20%5B37.7771%2C%20-122.2631%5D%2C%20%5B37.77802%2C%20-122.26308%5D%2C%20%5B37.77828%2C%20-122.263%5D%2C%20%5B37.7786%2C%20-122.26273%5D%2C%20%5B37.77873%2C%20-122.26273%5D%2C%20%5B37.77942%2C%20-122.26317%5D%2C%20%5B37.78027%2C%20-122.26405%5D%2C%20%5B37.78058%2C%20-122.26464%5D%2C%20%5B37.78077%2C%20-122.26534%5D%2C%20%5B37.78166%2C%20-122.26538%5D%2C%20%5B37.78171%2C%20-122.26551%5D%2C%20%5B37.78173%2C%20-122.26576%5D%2C%20%5B37.78166%2C%20-122.26679%5D%2C%20%5B37.78167%2C%20-122.26748%5D%2C%20%5B37.78183%2C%20-122.26848%5D%2C%20%5B37.78194%2C%20-122.26881%5D%2C%20%5B37.78213%2C%20-122.26916%5D%2C%20%5B37.78263%2C%20-122.26964%5D%2C%20%5B37.78278%2C%20-122.26983%5D%2C%20%5B37.78316%2C%20-122.27082%5D%2C%20%5B37.78326%2C%20-122.27097%5D%2C%20%5B37.78406%2C%20-122.27093%5D%2C%20%5B37.78438%2C%20-122.27101%5D%2C%20%5B37.78483%2C%20-122.27133%5D%2C%20%5B37.78568%2C%20-122.27219%5D%2C%20%5B37.78591%2C%20-122.27256%5D%2C%20%5B37.78657%2C%20-122.27428%5D%2C%20%5B37.78675%2C%20-122.27452%5D%2C%20%5B37.78741%2C%20-122.27495%5D%2C%20%5B37.78777%2C%20-122.27535%5D%5D%2C%0A%20%20%20%20%20%20%20%20%20%20%20%20%20%20%20%20%7B%22bubblingMouseEvents%22%3A%20true%2C%20%22color%22%3A%20%22%233388ff%22%2C%20%22dashArray%22%3A%20null%2C%20%22dashOffset%22%3A%20null%2C%20%22fill%22%3A%20false%2C%20%22fillColor%22%3A%20%22%233388ff%22%2C%20%22fillOpacity%22%3A%200.2%2C%20%22fillRule%22%3A%20%22evenodd%22%2C%20%22lineCap%22%3A%20%22round%22%2C%20%22lineJoin%22%3A%20%22round%22%2C%20%22noClip%22%3A%20false%2C%20%22opacity%22%3A%201.0%2C%20%22smoothFactor%22%3A%201.0%2C%20%22stroke%22%3A%20true%2C%20%22weight%22%3A%203%7D%0A%20%20%20%20%20%20%20%20%20%20%20%20%29.addTo%28map_6c0be4cc9f464d2cbdd03e3ffebf5cb7%29%3B%0A%20%20%20%20%20%20%20%20%0A%3C/script%3E onload=\"this.contentDocument.open();this.contentDocument.write(    decodeURIComponent(this.getAttribute('data-html')));this.contentDocument.close();\" allowfullscreen webkitallowfullscreen mozallowfullscreen></iframe></div></div>"
      ],
      "text/plain": [
       "<folium.folium.Map at 0x161eebeb0>"
      ]
     },
     "execution_count": 15,
     "metadata": {},
     "output_type": "execute_result"
    }
   ],
   "source": [
    "# Mapping route with folium\n",
    "\n",
    "png = './data/elevation_profile.png'\n",
    "\n",
    "encoded = base64.b64encode(open(png, 'rb').read())\n",
    "\n",
    "\n",
    "\n",
    "html = '<img src=\"data:image/png;base64,{}\">'.format\n",
    "# iframe = IFrame(html(), width=632+20, height=420+20)\n",
    "# popup = folium.Popup(iframe, max_width=2650)\n",
    "\n",
    "centroid = [\n",
    "    np.mean([coord[0] for coord in decoded]), \n",
    "    np.mean([coord[1] for coord in decoded])\n",
    "]\n",
    "my_map = folium.Map(location=centroid, zoom_start=13)\n",
    "folium.PolyLine(decoded).add_to(my_map)\n",
    "\n",
    "my_map"
   ]
  },
  {
   "cell_type": "code",
   "execution_count": null,
   "metadata": {},
   "outputs": [],
   "source": []
  },
  {
   "cell_type": "code",
   "execution_count": 245,
   "metadata": {},
   "outputs": [
    {
     "data": {
      "application/vnd.plotly.v1+json": {
       "config": {
        "plotlyServerURL": "https://plot.ly"
       },
       "data": [
        {
         "hovertext": "",
         "lat": [
          37.78761,
          37.78739,
          37.78675,
          37.78652,
          37.78636,
          37.78582,
          37.78566,
          37.7855,
          37.78462,
          37.78429,
          37.78357,
          37.7833,
          37.78319,
          37.78308,
          37.78286,
          37.78273,
          37.78205,
          37.78188,
          37.78178,
          37.78161,
          37.7817,
          37.78167,
          37.78158,
          37.78085,
          37.78066,
          37.78047,
          37.78028,
          37.78005,
          37.77928,
          37.77871,
          37.77835,
          37.77807,
          37.77498,
          37.77458,
          37.77305,
          37.77296,
          37.77287,
          37.77286,
          37.77277,
          37.77189,
          37.77164,
          37.77162,
          37.77167,
          37.77179,
          37.77439,
          37.77438,
          37.77314,
          37.77309,
          37.77312,
          37.77458,
          37.77465,
          37.77431,
          37.77418,
          37.77381,
          37.77316,
          37.77291,
          37.77234,
          37.77162,
          37.7708,
          37.77018,
          37.76981,
          37.76962,
          37.76739,
          37.76662,
          37.76656,
          37.76648,
          37.76644,
          37.76647,
          37.76672,
          37.76729,
          37.76793,
          37.76806,
          37.76825,
          37.7685,
          37.76935,
          37.76952,
          37.77017,
          37.77435,
          37.77595,
          37.77605,
          37.77614,
          37.7761,
          37.77621,
          37.77616,
          37.77604,
          37.77538,
          37.77502,
          37.77413,
          37.77399,
          37.77373,
          37.77371,
          37.77373,
          37.77783,
          37.77889,
          37.77912,
          37.78516,
          37.78559,
          37.78619,
          37.78632,
          37.78754,
          37.78765,
          37.78778,
          37.78836,
          37.78877,
          37.78893,
          37.79074,
          37.79093,
          37.79367,
          37.7938,
          37.79522,
          37.79734,
          37.79776,
          37.79871,
          37.79891,
          37.79891,
          37.79898,
          37.79899,
          37.79907,
          37.79948,
          37.80022,
          37.80035,
          37.80079,
          37.80113,
          37.80153,
          37.80213,
          37.80308,
          37.80338,
          37.8041,
          37.80502,
          37.80561,
          37.80643,
          37.80744,
          37.80801,
          37.80879,
          37.80941,
          37.80983,
          37.81031,
          37.81043,
          37.81078,
          37.81088,
          37.81085,
          37.81089,
          37.81084,
          37.81069,
          37.81058,
          37.81003,
          37.80994,
          37.80988,
          37.80974,
          37.80959,
          37.8091,
          37.80886,
          37.80839,
          37.80819,
          37.80816,
          37.80836,
          37.80834,
          37.80806,
          37.80767,
          37.80754,
          37.80746,
          37.80741,
          37.80722,
          37.80725,
          37.80731,
          37.80745,
          37.80786,
          37.80819,
          37.80816,
          37.80818,
          37.80795,
          37.80773,
          37.80773,
          37.80788,
          37.80777,
          37.80751,
          37.80719,
          37.80684,
          37.80664,
          37.80646,
          37.80638,
          37.80633,
          37.80635,
          37.80645,
          37.80709,
          37.80719,
          37.80715,
          37.80719,
          37.80729,
          37.80757,
          37.80771,
          37.80777,
          37.80786,
          37.80789,
          37.80767,
          37.80752,
          37.80729,
          37.80694,
          37.80681,
          37.80646,
          37.80584,
          37.80545,
          37.80528,
          37.80515,
          37.80482,
          37.80461,
          37.80454,
          37.80445,
          37.80395,
          37.80302,
          37.80294,
          37.80294,
          37.80301,
          37.80316,
          37.80315,
          37.80208,
          37.80116,
          37.79931,
          37.79901,
          37.79888,
          37.79714,
          37.79681,
          37.79653,
          37.79637,
          37.79638,
          37.7965,
          37.79712,
          37.79728,
          37.79735,
          37.79724,
          37.79703,
          37.79684,
          37.79542,
          37.7948,
          37.7946,
          37.7945,
          37.79439,
          37.79446,
          37.79457,
          37.79569,
          37.79608,
          37.7963,
          37.79648,
          37.79663,
          37.79695,
          37.79761,
          37.79785,
          37.7981,
          37.79851,
          37.79896,
          37.79909,
          37.79887,
          37.79791,
          37.79752,
          37.79717,
          37.79469,
          37.7939,
          37.79465,
          37.79713,
          37.79743,
          37.79772,
          37.79872,
          37.79857,
          37.79858,
          37.79985,
          37.79995,
          37.80243,
          37.80281,
          37.80277,
          37.80285,
          37.80284,
          37.79992,
          37.79982,
          37.79958,
          37.79916,
          37.79892,
          37.79839,
          37.79842,
          37.79866,
          37.79861,
          37.79853,
          37.7974,
          37.78409,
          37.78054,
          37.77832,
          37.77458,
          37.77321,
          37.77064,
          37.76896,
          37.76842,
          37.76825,
          37.76815,
          37.76786,
          37.76787,
          37.76794,
          37.7684,
          37.76872,
          37.77066,
          37.7715,
          37.77152,
          37.77147,
          37.77076,
          37.77073,
          37.77444,
          37.77621,
          37.77621,
          37.77614,
          37.77468,
          37.77458,
          37.77608,
          37.77646,
          37.77664,
          37.77672,
          37.77684,
          37.77689,
          37.77697,
          37.7771,
          37.77802,
          37.77828,
          37.7786,
          37.77873,
          37.77942,
          37.78027,
          37.78058,
          37.78077,
          37.78166,
          37.78171,
          37.78173,
          37.78166,
          37.78167,
          37.78183,
          37.78194,
          37.78213,
          37.78263,
          37.78278,
          37.78316,
          37.78326,
          37.78406,
          37.78438,
          37.78483,
          37.78568,
          37.78591,
          37.78657,
          37.78675,
          37.78741,
          37.78777
         ],
         "line": {
          "color": "midnightblue",
          "width": 3
         },
         "lon": [
          -122.27535,
          -122.27511,
          -122.2747,
          -122.27445,
          -122.27413,
          -122.27264,
          -122.27234,
          -122.27215,
          -122.2714,
          -122.2712,
          -122.27108,
          -122.2711,
          -122.27102,
          -122.2708,
          -122.27008,
          -122.26981,
          -122.26915,
          -122.26886,
          -122.26852,
          -122.26715,
          -122.2656,
          -122.26546,
          -122.26538,
          -122.26541,
          -122.26533,
          -122.26465,
          -122.26427,
          -122.26396,
          -122.26318,
          -122.26277,
          -122.26304,
          -122.26314,
          -122.26337,
          -122.26333,
          -122.26339,
          -122.26334,
          -122.26256,
          -122.26073,
          -122.25905,
          -122.25704,
          -122.25639,
          -122.2562,
          -122.25606,
          -122.25596,
          -122.25413,
          -122.25394,
          -122.25105,
          -122.2508,
          -122.25067,
          -122.24968,
          -122.24951,
          -122.24864,
          -122.24818,
          -122.24727,
          -122.24578,
          -122.24542,
          -122.24415,
          -122.24239,
          -122.24063,
          -122.23908,
          -122.23829,
          -122.23837,
          -122.24025,
          -122.2408,
          -122.24077,
          -122.24013,
          -122.23927,
          -122.23888,
          -122.23734,
          -122.2348,
          -122.23164,
          -122.23116,
          -122.23081,
          -122.23055,
          -122.2299,
          -122.22964,
          -122.22918,
          -122.22744,
          -122.22661,
          -122.22653,
          -122.22633,
          -122.22563,
          -122.22486,
          -122.22444,
          -122.22405,
          -122.22274,
          -122.22239,
          -122.2217,
          -122.22151,
          -122.22102,
          -122.22087,
          -122.22073,
          -122.21764,
          -122.21679,
          -122.21654,
          -122.20795,
          -122.20693,
          -122.20591,
          -122.20551,
          -122.20341,
          -122.2031,
          -122.20241,
          -122.20153,
          -122.20128,
          -122.2011,
          -122.19802,
          -122.19801,
          -122.20048,
          -122.20044,
          -122.19807,
          -122.1944,
          -122.19348,
          -122.19212,
          -122.19154,
          -122.19055,
          -122.19035,
          -122.18991,
          -122.18987,
          -122.18997,
          -122.19039,
          -122.19035,
          -122.19002,
          -122.18994,
          -122.19013,
          -122.19056,
          -122.19088,
          -122.19104,
          -122.19157,
          -122.19241,
          -122.1928,
          -122.19349,
          -122.19442,
          -122.19519,
          -122.19566,
          -122.19648,
          -122.19718,
          -122.1978,
          -122.19777,
          -122.19734,
          -122.19697,
          -122.19675,
          -122.19605,
          -122.19543,
          -122.19475,
          -122.1947,
          -122.19485,
          -122.19474,
          -122.19428,
          -122.1941,
          -122.19405,
          -122.1941,
          -122.19388,
          -122.19311,
          -122.19253,
          -122.19216,
          -122.1918,
          -122.19169,
          -122.19173,
          -122.1921,
          -122.19206,
          -122.19192,
          -122.19131,
          -122.19067,
          -122.19043,
          -122.19032,
          -122.1902,
          -122.19026,
          -122.18974,
          -122.18924,
          -122.1889,
          -122.18852,
          -122.18764,
          -122.18737,
          -122.18699,
          -122.18685,
          -122.18696,
          -122.18744,
          -122.18762,
          -122.18798,
          -122.18809,
          -122.18807,
          -122.18797,
          -122.18787,
          -122.18771,
          -122.18708,
          -122.18678,
          -122.18655,
          -122.18644,
          -122.18639,
          -122.18644,
          -122.1863,
          -122.18612,
          -122.18581,
          -122.18529,
          -122.18472,
          -122.18421,
          -122.1838,
          -122.18343,
          -122.18315,
          -122.1828,
          -122.18233,
          -122.18154,
          -122.18094,
          -122.18079,
          -122.18085,
          -122.18074,
          -122.18062,
          -122.18022,
          -122.17978,
          -122.17866,
          -122.17841,
          -122.17804,
          -122.17776,
          -122.17751,
          -122.17741,
          -122.17619,
          -122.17499,
          -122.17172,
          -122.17103,
          -122.1709,
          -122.17058,
          -122.17069,
          -122.17097,
          -122.1714,
          -122.17189,
          -122.17221,
          -122.17315,
          -122.17351,
          -122.17392,
          -122.17447,
          -122.17483,
          -122.175,
          -122.17572,
          -122.17609,
          -122.17632,
          -122.17652,
          -122.17706,
          -122.17749,
          -122.17777,
          -122.1792,
          -122.17988,
          -122.1806,
          -122.18203,
          -122.18239,
          -122.18276,
          -122.18307,
          -122.18328,
          -122.18368,
          -122.18477,
          -122.18682,
          -122.19144,
          -122.19215,
          -122.19359,
          -122.19443,
          -122.19506,
          -122.19924,
          -122.20067,
          -122.20144,
          -122.20447,
          -122.20488,
          -122.2055,
          -122.20778,
          -122.20867,
          -122.20895,
          -122.21391,
          -122.21395,
          -122.21143,
          -122.21101,
          -122.21087,
          -122.21095,
          -122.21102,
          -122.21404,
          -122.2142,
          -122.21443,
          -122.21504,
          -122.21522,
          -122.21547,
          -122.21591,
          -122.21686,
          -122.21699,
          -122.21707,
          -122.21738,
          -122.22266,
          -122.22441,
          -122.22554,
          -122.2275,
          -122.22811,
          -122.22908,
          -122.23036,
          -122.23086,
          -122.23112,
          -122.23142,
          -122.23282,
          -122.23298,
          -122.23311,
          -122.23331,
          -122.23374,
          -122.23745,
          -122.2394,
          -122.23948,
          -122.2396,
          -122.24011,
          -122.24021,
          -122.24877,
          -122.25279,
          -122.25296,
          -122.25305,
          -122.25406,
          -122.25421,
          -122.25765,
          -122.25877,
          -122.25955,
          -122.26015,
          -122.26255,
          -122.26297,
          -122.26307,
          -122.2631,
          -122.26308,
          -122.263,
          -122.26273,
          -122.26273,
          -122.26317,
          -122.26405,
          -122.26464,
          -122.26534,
          -122.26538,
          -122.26551,
          -122.26576,
          -122.26679,
          -122.26748,
          -122.26848,
          -122.26881,
          -122.26916,
          -122.26964,
          -122.26983,
          -122.27082,
          -122.27097,
          -122.27093,
          -122.27101,
          -122.27133,
          -122.27219,
          -122.27256,
          -122.27428,
          -122.27452,
          -122.27495,
          -122.27535
         ],
         "marker": {
          "color": "red",
          "size": 2
         },
         "mode": "lines",
         "textfont": {
          "color": "#E58606"
         },
         "textposition": "bottom center",
         "type": "scattermapbox"
        }
       ],
       "layout": {
        "mapbox": {
         "accesstoken": "pk.eyJ1IjoidGlyb2dlciIsImEiOiJjancxNHNkdGMwN2E4NDNtemt3dDM1ZDJ0In0.CJVEsnLNqQXM74U5VLPTEA",
         "center": {
          "lat": 37.79021786127168,
          "lon": -122.21877014450868
         },
         "style": "light",
         "zoom": 12
        },
        "margin": {
         "b": 0,
         "l": 0,
         "r": 0,
         "t": 0
        },
        "showlegend": false,
        "template": {
         "data": {
          "bar": [
           {
            "error_x": {
             "color": "#2a3f5f"
            },
            "error_y": {
             "color": "#2a3f5f"
            },
            "marker": {
             "line": {
              "color": "#E5ECF6",
              "width": 0.5
             },
             "pattern": {
              "fillmode": "overlay",
              "size": 10,
              "solidity": 0.2
             }
            },
            "type": "bar"
           }
          ],
          "barpolar": [
           {
            "marker": {
             "line": {
              "color": "#E5ECF6",
              "width": 0.5
             },
             "pattern": {
              "fillmode": "overlay",
              "size": 10,
              "solidity": 0.2
             }
            },
            "type": "barpolar"
           }
          ],
          "carpet": [
           {
            "aaxis": {
             "endlinecolor": "#2a3f5f",
             "gridcolor": "white",
             "linecolor": "white",
             "minorgridcolor": "white",
             "startlinecolor": "#2a3f5f"
            },
            "baxis": {
             "endlinecolor": "#2a3f5f",
             "gridcolor": "white",
             "linecolor": "white",
             "minorgridcolor": "white",
             "startlinecolor": "#2a3f5f"
            },
            "type": "carpet"
           }
          ],
          "choropleth": [
           {
            "colorbar": {
             "outlinewidth": 0,
             "ticks": ""
            },
            "type": "choropleth"
           }
          ],
          "contour": [
           {
            "colorbar": {
             "outlinewidth": 0,
             "ticks": ""
            },
            "colorscale": [
             [
              0,
              "#0d0887"
             ],
             [
              0.1111111111111111,
              "#46039f"
             ],
             [
              0.2222222222222222,
              "#7201a8"
             ],
             [
              0.3333333333333333,
              "#9c179e"
             ],
             [
              0.4444444444444444,
              "#bd3786"
             ],
             [
              0.5555555555555556,
              "#d8576b"
             ],
             [
              0.6666666666666666,
              "#ed7953"
             ],
             [
              0.7777777777777778,
              "#fb9f3a"
             ],
             [
              0.8888888888888888,
              "#fdca26"
             ],
             [
              1,
              "#f0f921"
             ]
            ],
            "type": "contour"
           }
          ],
          "contourcarpet": [
           {
            "colorbar": {
             "outlinewidth": 0,
             "ticks": ""
            },
            "type": "contourcarpet"
           }
          ],
          "heatmap": [
           {
            "colorbar": {
             "outlinewidth": 0,
             "ticks": ""
            },
            "colorscale": [
             [
              0,
              "#0d0887"
             ],
             [
              0.1111111111111111,
              "#46039f"
             ],
             [
              0.2222222222222222,
              "#7201a8"
             ],
             [
              0.3333333333333333,
              "#9c179e"
             ],
             [
              0.4444444444444444,
              "#bd3786"
             ],
             [
              0.5555555555555556,
              "#d8576b"
             ],
             [
              0.6666666666666666,
              "#ed7953"
             ],
             [
              0.7777777777777778,
              "#fb9f3a"
             ],
             [
              0.8888888888888888,
              "#fdca26"
             ],
             [
              1,
              "#f0f921"
             ]
            ],
            "type": "heatmap"
           }
          ],
          "heatmapgl": [
           {
            "colorbar": {
             "outlinewidth": 0,
             "ticks": ""
            },
            "colorscale": [
             [
              0,
              "#0d0887"
             ],
             [
              0.1111111111111111,
              "#46039f"
             ],
             [
              0.2222222222222222,
              "#7201a8"
             ],
             [
              0.3333333333333333,
              "#9c179e"
             ],
             [
              0.4444444444444444,
              "#bd3786"
             ],
             [
              0.5555555555555556,
              "#d8576b"
             ],
             [
              0.6666666666666666,
              "#ed7953"
             ],
             [
              0.7777777777777778,
              "#fb9f3a"
             ],
             [
              0.8888888888888888,
              "#fdca26"
             ],
             [
              1,
              "#f0f921"
             ]
            ],
            "type": "heatmapgl"
           }
          ],
          "histogram": [
           {
            "marker": {
             "pattern": {
              "fillmode": "overlay",
              "size": 10,
              "solidity": 0.2
             }
            },
            "type": "histogram"
           }
          ],
          "histogram2d": [
           {
            "colorbar": {
             "outlinewidth": 0,
             "ticks": ""
            },
            "colorscale": [
             [
              0,
              "#0d0887"
             ],
             [
              0.1111111111111111,
              "#46039f"
             ],
             [
              0.2222222222222222,
              "#7201a8"
             ],
             [
              0.3333333333333333,
              "#9c179e"
             ],
             [
              0.4444444444444444,
              "#bd3786"
             ],
             [
              0.5555555555555556,
              "#d8576b"
             ],
             [
              0.6666666666666666,
              "#ed7953"
             ],
             [
              0.7777777777777778,
              "#fb9f3a"
             ],
             [
              0.8888888888888888,
              "#fdca26"
             ],
             [
              1,
              "#f0f921"
             ]
            ],
            "type": "histogram2d"
           }
          ],
          "histogram2dcontour": [
           {
            "colorbar": {
             "outlinewidth": 0,
             "ticks": ""
            },
            "colorscale": [
             [
              0,
              "#0d0887"
             ],
             [
              0.1111111111111111,
              "#46039f"
             ],
             [
              0.2222222222222222,
              "#7201a8"
             ],
             [
              0.3333333333333333,
              "#9c179e"
             ],
             [
              0.4444444444444444,
              "#bd3786"
             ],
             [
              0.5555555555555556,
              "#d8576b"
             ],
             [
              0.6666666666666666,
              "#ed7953"
             ],
             [
              0.7777777777777778,
              "#fb9f3a"
             ],
             [
              0.8888888888888888,
              "#fdca26"
             ],
             [
              1,
              "#f0f921"
             ]
            ],
            "type": "histogram2dcontour"
           }
          ],
          "mesh3d": [
           {
            "colorbar": {
             "outlinewidth": 0,
             "ticks": ""
            },
            "type": "mesh3d"
           }
          ],
          "parcoords": [
           {
            "line": {
             "colorbar": {
              "outlinewidth": 0,
              "ticks": ""
             }
            },
            "type": "parcoords"
           }
          ],
          "pie": [
           {
            "automargin": true,
            "type": "pie"
           }
          ],
          "scatter": [
           {
            "marker": {
             "colorbar": {
              "outlinewidth": 0,
              "ticks": ""
             }
            },
            "type": "scatter"
           }
          ],
          "scatter3d": [
           {
            "line": {
             "colorbar": {
              "outlinewidth": 0,
              "ticks": ""
             }
            },
            "marker": {
             "colorbar": {
              "outlinewidth": 0,
              "ticks": ""
             }
            },
            "type": "scatter3d"
           }
          ],
          "scattercarpet": [
           {
            "marker": {
             "colorbar": {
              "outlinewidth": 0,
              "ticks": ""
             }
            },
            "type": "scattercarpet"
           }
          ],
          "scattergeo": [
           {
            "marker": {
             "colorbar": {
              "outlinewidth": 0,
              "ticks": ""
             }
            },
            "type": "scattergeo"
           }
          ],
          "scattergl": [
           {
            "marker": {
             "colorbar": {
              "outlinewidth": 0,
              "ticks": ""
             }
            },
            "type": "scattergl"
           }
          ],
          "scattermapbox": [
           {
            "marker": {
             "colorbar": {
              "outlinewidth": 0,
              "ticks": ""
             }
            },
            "type": "scattermapbox"
           }
          ],
          "scatterpolar": [
           {
            "marker": {
             "colorbar": {
              "outlinewidth": 0,
              "ticks": ""
             }
            },
            "type": "scatterpolar"
           }
          ],
          "scatterpolargl": [
           {
            "marker": {
             "colorbar": {
              "outlinewidth": 0,
              "ticks": ""
             }
            },
            "type": "scatterpolargl"
           }
          ],
          "scatterternary": [
           {
            "marker": {
             "colorbar": {
              "outlinewidth": 0,
              "ticks": ""
             }
            },
            "type": "scatterternary"
           }
          ],
          "surface": [
           {
            "colorbar": {
             "outlinewidth": 0,
             "ticks": ""
            },
            "colorscale": [
             [
              0,
              "#0d0887"
             ],
             [
              0.1111111111111111,
              "#46039f"
             ],
             [
              0.2222222222222222,
              "#7201a8"
             ],
             [
              0.3333333333333333,
              "#9c179e"
             ],
             [
              0.4444444444444444,
              "#bd3786"
             ],
             [
              0.5555555555555556,
              "#d8576b"
             ],
             [
              0.6666666666666666,
              "#ed7953"
             ],
             [
              0.7777777777777778,
              "#fb9f3a"
             ],
             [
              0.8888888888888888,
              "#fdca26"
             ],
             [
              1,
              "#f0f921"
             ]
            ],
            "type": "surface"
           }
          ],
          "table": [
           {
            "cells": {
             "fill": {
              "color": "#EBF0F8"
             },
             "line": {
              "color": "white"
             }
            },
            "header": {
             "fill": {
              "color": "#C8D4E3"
             },
             "line": {
              "color": "white"
             }
            },
            "type": "table"
           }
          ]
         },
         "layout": {
          "annotationdefaults": {
           "arrowcolor": "#2a3f5f",
           "arrowhead": 0,
           "arrowwidth": 1
          },
          "autotypenumbers": "strict",
          "coloraxis": {
           "colorbar": {
            "outlinewidth": 0,
            "ticks": ""
           }
          },
          "colorscale": {
           "diverging": [
            [
             0,
             "#8e0152"
            ],
            [
             0.1,
             "#c51b7d"
            ],
            [
             0.2,
             "#de77ae"
            ],
            [
             0.3,
             "#f1b6da"
            ],
            [
             0.4,
             "#fde0ef"
            ],
            [
             0.5,
             "#f7f7f7"
            ],
            [
             0.6,
             "#e6f5d0"
            ],
            [
             0.7,
             "#b8e186"
            ],
            [
             0.8,
             "#7fbc41"
            ],
            [
             0.9,
             "#4d9221"
            ],
            [
             1,
             "#276419"
            ]
           ],
           "sequential": [
            [
             0,
             "#0d0887"
            ],
            [
             0.1111111111111111,
             "#46039f"
            ],
            [
             0.2222222222222222,
             "#7201a8"
            ],
            [
             0.3333333333333333,
             "#9c179e"
            ],
            [
             0.4444444444444444,
             "#bd3786"
            ],
            [
             0.5555555555555556,
             "#d8576b"
            ],
            [
             0.6666666666666666,
             "#ed7953"
            ],
            [
             0.7777777777777778,
             "#fb9f3a"
            ],
            [
             0.8888888888888888,
             "#fdca26"
            ],
            [
             1,
             "#f0f921"
            ]
           ],
           "sequentialminus": [
            [
             0,
             "#0d0887"
            ],
            [
             0.1111111111111111,
             "#46039f"
            ],
            [
             0.2222222222222222,
             "#7201a8"
            ],
            [
             0.3333333333333333,
             "#9c179e"
            ],
            [
             0.4444444444444444,
             "#bd3786"
            ],
            [
             0.5555555555555556,
             "#d8576b"
            ],
            [
             0.6666666666666666,
             "#ed7953"
            ],
            [
             0.7777777777777778,
             "#fb9f3a"
            ],
            [
             0.8888888888888888,
             "#fdca26"
            ],
            [
             1,
             "#f0f921"
            ]
           ]
          },
          "colorway": [
           "#636efa",
           "#EF553B",
           "#00cc96",
           "#ab63fa",
           "#FFA15A",
           "#19d3f3",
           "#FF6692",
           "#B6E880",
           "#FF97FF",
           "#FECB52"
          ],
          "font": {
           "color": "#2a3f5f"
          },
          "geo": {
           "bgcolor": "white",
           "lakecolor": "white",
           "landcolor": "#E5ECF6",
           "showlakes": true,
           "showland": true,
           "subunitcolor": "white"
          },
          "hoverlabel": {
           "align": "left"
          },
          "hovermode": "closest",
          "mapbox": {
           "style": "light"
          },
          "paper_bgcolor": "white",
          "plot_bgcolor": "#E5ECF6",
          "polar": {
           "angularaxis": {
            "gridcolor": "white",
            "linecolor": "white",
            "ticks": ""
           },
           "bgcolor": "#E5ECF6",
           "radialaxis": {
            "gridcolor": "white",
            "linecolor": "white",
            "ticks": ""
           }
          },
          "scene": {
           "xaxis": {
            "backgroundcolor": "#E5ECF6",
            "gridcolor": "white",
            "gridwidth": 2,
            "linecolor": "white",
            "showbackground": true,
            "ticks": "",
            "zerolinecolor": "white"
           },
           "yaxis": {
            "backgroundcolor": "#E5ECF6",
            "gridcolor": "white",
            "gridwidth": 2,
            "linecolor": "white",
            "showbackground": true,
            "ticks": "",
            "zerolinecolor": "white"
           },
           "zaxis": {
            "backgroundcolor": "#E5ECF6",
            "gridcolor": "white",
            "gridwidth": 2,
            "linecolor": "white",
            "showbackground": true,
            "ticks": "",
            "zerolinecolor": "white"
           }
          },
          "shapedefaults": {
           "line": {
            "color": "#2a3f5f"
           }
          },
          "ternary": {
           "aaxis": {
            "gridcolor": "white",
            "linecolor": "white",
            "ticks": ""
           },
           "baxis": {
            "gridcolor": "white",
            "linecolor": "white",
            "ticks": ""
           },
           "bgcolor": "#E5ECF6",
           "caxis": {
            "gridcolor": "white",
            "linecolor": "white",
            "ticks": ""
           }
          },
          "title": {
           "x": 0.05
          },
          "xaxis": {
           "automargin": true,
           "gridcolor": "white",
           "linecolor": "white",
           "ticks": "",
           "title": {
            "standoff": 15
           },
           "zerolinecolor": "white",
           "zerolinewidth": 2
          },
          "yaxis": {
           "automargin": true,
           "gridcolor": "white",
           "linecolor": "white",
           "ticks": "",
           "title": {
            "standoff": 15
           },
           "zerolinecolor": "white",
           "zerolinewidth": 2
          }
         }
        }
       }
      }
     },
     "metadata": {},
     "output_type": "display_data"
    }
   ],
   "source": [
    "\n",
    "lat = [coord[0] for coord in decoded] \n",
    "lon = [coord[1] for coord in decoded]\n",
    "\n",
    "\n",
    "token = MAPBOX_TOKEN = st.secrets['MAPBOX_TOKEN']\n",
    "\n",
    "fig = go.Figure(go.Scattermapbox(\n",
    "    mode = \"lines\",\n",
    "    lon = lon, lat = lat,\n",
    "    marker = dict(size = 2, color = \"red\"),\n",
    "    line = dict(color = \"midnightblue\", width = 3),\n",
    "    # text = '‣',\n",
    "    textfont=dict(color='#E58606'),\n",
    "    textposition = 'bottom center',))\n",
    "fig.update_traces(hovertext='', selector=dict(type='scattermapbox'))\n",
    "fig.update_layout(\n",
    "    mapbox = {\n",
    "        'accesstoken': token,\n",
    "        'style': \"outdoors\", 'zoom': 12,\n",
    "        'center': {'lon': centroid[1], 'lat': centroid[0]}\n",
    "    },\n",
    "    margin = {'l': 0, 'r': 0, 't': 0, 'b': 0},\n",
    "    showlegend = False,\n",
    "    mapbox_style=\"light\")\n",
    "    \n",
    "\n",
    "fig.show()"
   ]
  },
  {
   "cell_type": "code",
   "execution_count": 271,
   "metadata": {},
   "outputs": [
    {
     "data": {
      "application/vnd.plotly.v1+json": {
       "config": {
        "plotlyServerURL": "https://plot.ly"
       },
       "data": [
        {
         "hovertemplate": "x=%{x}<br>y=%{y}<extra></extra>",
         "legendgroup": "",
         "line": {
          "color": "#636efa",
          "dash": "solid"
         },
         "marker": {
          "symbol": "circle"
         },
         "mode": "lines",
         "name": "",
         "orientation": "v",
         "showlegend": false,
         "type": "scatter",
         "x": [
          0,
          1,
          2,
          3,
          4,
          5,
          6,
          7,
          8,
          9,
          10,
          11,
          12,
          13,
          14,
          15,
          16,
          17,
          18,
          19,
          20,
          21,
          22,
          23,
          24,
          25,
          26,
          27,
          28,
          29,
          30,
          31,
          32,
          33,
          34,
          35,
          36,
          37,
          38,
          39,
          40,
          41,
          42,
          43,
          44,
          45,
          46,
          47,
          48,
          49,
          50,
          51,
          52,
          53,
          54,
          55,
          56,
          57,
          58,
          59,
          60,
          61,
          62,
          63,
          64,
          65,
          66,
          67,
          68,
          69,
          70,
          71,
          72,
          73,
          74,
          75,
          76,
          77,
          78,
          79,
          80,
          81,
          82,
          83,
          84,
          85,
          86,
          87,
          88,
          89,
          90,
          91,
          92,
          93,
          94,
          95,
          96,
          97,
          98,
          99,
          100,
          101,
          102,
          103,
          104,
          105,
          106,
          107,
          108,
          109,
          110,
          111,
          112,
          113,
          114,
          115,
          116,
          117,
          118,
          119,
          120,
          121,
          122,
          123,
          124,
          125,
          126,
          127,
          128,
          129,
          130,
          131,
          132,
          133,
          134,
          135,
          136,
          137,
          138,
          139,
          140,
          141,
          142,
          143,
          144,
          145,
          146,
          147,
          148,
          149,
          150,
          151,
          152,
          153,
          154,
          155,
          156,
          157,
          158,
          159,
          160,
          161,
          162,
          163,
          164,
          165,
          166,
          167,
          168,
          169,
          170,
          171,
          172,
          173,
          174,
          175,
          176,
          177,
          178,
          179,
          180,
          181,
          182,
          183,
          184,
          185,
          186,
          187,
          188,
          189,
          190,
          191,
          192,
          193,
          194,
          195,
          196,
          197,
          198,
          199,
          200,
          201,
          202,
          203,
          204,
          205,
          206,
          207,
          208,
          209,
          210,
          211,
          212,
          213,
          214,
          215,
          216,
          217,
          218,
          219,
          220,
          221,
          222,
          223,
          224,
          225,
          226,
          227,
          228,
          229,
          230,
          231,
          232,
          233,
          234,
          235,
          236,
          237,
          238,
          239,
          240,
          241,
          242,
          243,
          244,
          245,
          246,
          247,
          248,
          249,
          250,
          251,
          252,
          253,
          254,
          255,
          256,
          257,
          258,
          259,
          260,
          261,
          262,
          263,
          264,
          265,
          266,
          267,
          268,
          269,
          270,
          271,
          272,
          273,
          274,
          275,
          276,
          277,
          278,
          279,
          280,
          281,
          282,
          283,
          284,
          285,
          286,
          287,
          288,
          289,
          290,
          291,
          292,
          293,
          294,
          295,
          296,
          297,
          298,
          299,
          300,
          301,
          302,
          303,
          304,
          305,
          306,
          307,
          308,
          309,
          310,
          311,
          312,
          313,
          314,
          315,
          316,
          317,
          318,
          319,
          320,
          321,
          322,
          323,
          324,
          325,
          326,
          327,
          328,
          329,
          330,
          331,
          332,
          333,
          334,
          335,
          336,
          337,
          338,
          339,
          340,
          341,
          342,
          343,
          344,
          345
         ],
         "xaxis": "x",
         "y": [
          null,
          null,
          null,
          null,
          1.3123360000000002,
          0,
          1.312336,
          1.968504,
          3.28084,
          4.593176,
          5.249343999999999,
          7.874016,
          10.498688000000001,
          13.12336,
          15.748032,
          18.372704000000002,
          19.028872,
          19.68504,
          20.341208,
          20.997376,
          20.997376,
          20.997376,
          20.997376,
          19.685039999999997,
          18.372704,
          17.716535999999998,
          17.716535999999998,
          17.716535999999998,
          18.372704000000002,
          16.4042,
          14.435696000000002,
          11.811024,
          12.467192,
          13.12336,
          16.404199999999996,
          19.685039999999997,
          22.96588,
          24.934384,
          26.24672,
          28.215224,
          30.183728000000002,
          31.496064,
          30.839896,
          30.839896,
          27.559055999999998,
          24.278215999999997,
          24.278216,
          24.278215999999997,
          24.278216,
          23.622048,
          22.96588,
          19.68504,
          16.404199999999996,
          13.12336,
          11.811024,
          11.154855999999999,
          10.498688,
          10.498688,
          12.467192,
          13.779527999999999,
          14.435695999999998,
          15.091863999999998,
          16.4042,
          19.028872,
          23.622048,
          28.215224,
          30.839896,
          32.15223199999999,
          29.527559999999994,
          25.590552,
          21.653544,
          18.372704,
          15.091863999999998,
          12.467192,
          11.811024,
          11.154856,
          11.811024,
          15.748032,
          20.997375999999996,
          25.590552,
          30.183727999999995,
          34.776904,
          37.401576,
          38.71391199999999,
          40.026247999999995,
          41.338584000000004,
          42.65092,
          39.37008,
          36.08924,
          32.8084,
          29.52756,
          26.902888,
          32.152232000000005,
          37.401576,
          41.338584000000004,
          62.992128,
          84.645672,
          103.674544,
          122.70341600000002,
          146.32546399999998,
          152.230976,
          157.48032,
          162.729664,
          167.97900800000002,
          169.94751200000002,
          175.196856,
          180.4462,
          186.35171200000002,
          196.85039999999998,
          208.66142399999998,
          229.6588,
          259.18636000000004,
          290.68242399999997,
          325.459328,
          358.92389599999996,
          379.92127199999993,
          392.388464,
          400.26248,
          400.26248,
          402.88715199999996,
          405.511824,
          408.13649599999997,
          410.761168,
          413.38584000000003,
          429.133872,
          444.881904,
          460.629936,
          476.37796799999995,
          501.31235200000003,
          510.498704,
          551.837288,
          573.4908320000001,
          595.144376,
          629.9212800000001,
          652.88716,
          643.7008079999999,
          654.199496,
          671.916032,
          667.322856,
          674.540704,
          681.758552,
          688.9764,
          706.036768,
          723.097136,
          740.157504,
          744.75068,
          749.343856,
          736.876664,
          724.409472,
          711.94228,
          711.94228,
          711.94228,
          736.876664,
          734.2519920000001,
          731.6273199999999,
          756.561704,
          781.496088,
          753.937032,
          753.937032,
          753.937032,
          726.377976,
          716.5354560000001,
          734.2519920000001,
          751.968528,
          769.685064,
          787.4016,
          787.4016,
          787.4015999999999,
          788.7139359999999,
          790.0262720000001,
          791.338608,
          792.650944,
          822.1785039999999,
          850.3937279999998,
          878.6089519999999,
          906.8241759999999,
          935.0394,
          906.8241760000001,
          878.6089519999999,
          850.393728,
          822.1785040000001,
          793.9632799999999,
          793.9632799999999,
          793.9632799999999,
          822.1785039999999,
          850.393728,
          878.6089519999999,
          906.8241760000001,
          935.0394,
          935.0394,
          935.0394,
          935.0394,
          935.0394,
          954.72444,
          974.4094799999999,
          994.09452,
          1013.7795600000002,
          1033.4646,
          1036.089272,
          1038.713944,
          1036.089272,
          1033.4646,
          1043.30712,
          1050.5249680000002,
          1057.742816,
          1070.210008,
          1082.6772,
          1082.6772,
          1051.1811360000002,
          1046.58796,
          1041.994784,
          1037.401608,
          1032.808432,
          1059.71132,
          1059.71132,
          1055.1181439999998,
          1055.774312,
          1040.682448,
          1025.590584,
          1010.4987199999999,
          982.283496,
          948.818928,
          926.509216,
          904.1995039999999,
          881.8897919999999,
          877.296616,
          847.7690559999999,
          822.834672,
          797.900288,
          772.965904,
          748.0315199999999,
          744.094512,
          725.06564,
          706.036768,
          687.0078960000001,
          667.979024,
          652.88716,
          639.7638,
          626.64044,
          580.70868,
          562.992144,
          545.2756079999999,
          520.341224,
          495.40684,
          503.28085599999997,
          482.9396479999999,
          462.5984399999999,
          474.40946399999996,
          486.22048799999993,
          484.908152,
          472.44096,
          452.09975199999997,
          415.35434399999997,
          370.078752,
          337.92652,
          304.461952,
          277.559064,
          255.249352,
          238.845152,
          222.440952,
          218.503944,
          217.191608,
          215.879272,
          217.191608,
          220.47244800000004,
          223.75328799999997,
          229.002632,
          234.25197599999996,
          239.50132,
          242.78215999999998,
          246.06299999999996,
          242.78215999999998,
          239.50132,
          236.22048,
          219.16011199999997,
          202.099744,
          188.320216,
          174.540688,
          160.76116,
          160.76116,
          160.76115999999996,
          159.44882399999997,
          145.66929599999997,
          125.984256,
          104.33071199999999,
          78.083992,
          53.149608,
          40.682416,
          30.839896,
          22.309712,
          18.372704000000002,
          15.748032,
          13.12336,
          13.779527999999999,
          15.091864000000001,
          16.404199999999996,
          16.404199999999996,
          16.4042,
          15.091863999999998,
          13.779527999999999,
          13.779527999999999,
          15.091863999999998,
          16.4042,
          17.060368,
          17.716535999999998,
          17.060368,
          15.091863999999998,
          13.779527999999999,
          17.716535999999998,
          17.716535999999998,
          19.685039999999997,
          21.653544,
          22.96588,
          19.685039999999997,
          20.341207999999998,
          19.028872,
          15.748032,
          12.467192,
          10.498687999999998,
          8.530184,
          6.56168,
          9.186352,
          11.811024,
          13.779527999999999,
          15.748032,
          18.372704000000002,
          18.372704000000002,
          18.372704000000002,
          19.68504,
          20.997376,
          21.653544,
          21.653544,
          21.653544,
          20.997376,
          20.341208,
          19.68504,
          19.028872,
          16.4042,
          13.779527999999999,
          11.154855999999999,
          7.874016,
          5.249344,
          3.937008,
          2.624672,
          1.312336,
          2.624672
         ],
         "yaxis": "y"
        }
       ],
       "layout": {
        "annotations": [
         {
          "align": "left",
          "showarrow": false,
          "text": "<b>RIDE STATS</b>--------------------",
          "x": 0.05,
          "xref": "paper",
          "y": 0.99,
          "yref": "paper"
         },
         {
          "align": "left",
          "showarrow": false,
          "text": "<b>Name</b>: Monterey - Butters",
          "x": 0.05,
          "xref": "paper",
          "y": 0.95,
          "yref": "paper"
         },
         {
          "align": "left",
          "showarrow": false,
          "text": "<b>Distance</b>: 20.4 miles",
          "x": 0.05,
          "xref": "paper",
          "y": 0.91,
          "yref": "paper"
         },
         {
          "align": "left",
          "showarrow": false,
          "text": "<b>Elevation Gain</b>: 1355.0 feet",
          "x": 0.05,
          "xref": "paper",
          "y": 0.87,
          "yref": "paper"
         },
         {
          "align": "left",
          "showarrow": false,
          "text": "<b>Average Speed</b>: 13.9 mph",
          "x": 0.05,
          "xref": "paper",
          "y": 0.83,
          "yref": "paper"
         },
         {
          "align": "left",
          "showarrow": false,
          "text": "<b>Weighted Power</b>: 166.0 Watts",
          "x": 0.05,
          "xref": "paper",
          "y": 0.79,
          "yref": "paper"
         },
         {
          "align": "left",
          "showarrow": false,
          "text": "<b>Suffer Score</b>: 137",
          "x": 0.05,
          "xref": "paper",
          "y": 0.75,
          "yref": "paper"
         },
         {
          "align": "left",
          "showarrow": false,
          "text": "----------------------------------",
          "x": 0.05,
          "xref": "paper",
          "y": 0.71,
          "yref": "paper"
         }
        ],
        "autosize": true,
        "hovermode": "x unified",
        "legend": {
         "tracegroupgap": 0
        },
        "margin": {
         "b": 0,
         "l": 0,
         "r": 0,
         "t": 0
        },
        "plot_bgcolor": "rgba(0,0,0,0)",
        "showlegend": false,
        "template": {
         "data": {
          "bar": [
           {
            "error_x": {
             "color": "#2a3f5f"
            },
            "error_y": {
             "color": "#2a3f5f"
            },
            "marker": {
             "line": {
              "color": "#E5ECF6",
              "width": 0.5
             },
             "pattern": {
              "fillmode": "overlay",
              "size": 10,
              "solidity": 0.2
             }
            },
            "type": "bar"
           }
          ],
          "barpolar": [
           {
            "marker": {
             "line": {
              "color": "#E5ECF6",
              "width": 0.5
             },
             "pattern": {
              "fillmode": "overlay",
              "size": 10,
              "solidity": 0.2
             }
            },
            "type": "barpolar"
           }
          ],
          "carpet": [
           {
            "aaxis": {
             "endlinecolor": "#2a3f5f",
             "gridcolor": "white",
             "linecolor": "white",
             "minorgridcolor": "white",
             "startlinecolor": "#2a3f5f"
            },
            "baxis": {
             "endlinecolor": "#2a3f5f",
             "gridcolor": "white",
             "linecolor": "white",
             "minorgridcolor": "white",
             "startlinecolor": "#2a3f5f"
            },
            "type": "carpet"
           }
          ],
          "choropleth": [
           {
            "colorbar": {
             "outlinewidth": 0,
             "ticks": ""
            },
            "type": "choropleth"
           }
          ],
          "contour": [
           {
            "colorbar": {
             "outlinewidth": 0,
             "ticks": ""
            },
            "colorscale": [
             [
              0,
              "#0d0887"
             ],
             [
              0.1111111111111111,
              "#46039f"
             ],
             [
              0.2222222222222222,
              "#7201a8"
             ],
             [
              0.3333333333333333,
              "#9c179e"
             ],
             [
              0.4444444444444444,
              "#bd3786"
             ],
             [
              0.5555555555555556,
              "#d8576b"
             ],
             [
              0.6666666666666666,
              "#ed7953"
             ],
             [
              0.7777777777777778,
              "#fb9f3a"
             ],
             [
              0.8888888888888888,
              "#fdca26"
             ],
             [
              1,
              "#f0f921"
             ]
            ],
            "type": "contour"
           }
          ],
          "contourcarpet": [
           {
            "colorbar": {
             "outlinewidth": 0,
             "ticks": ""
            },
            "type": "contourcarpet"
           }
          ],
          "heatmap": [
           {
            "colorbar": {
             "outlinewidth": 0,
             "ticks": ""
            },
            "colorscale": [
             [
              0,
              "#0d0887"
             ],
             [
              0.1111111111111111,
              "#46039f"
             ],
             [
              0.2222222222222222,
              "#7201a8"
             ],
             [
              0.3333333333333333,
              "#9c179e"
             ],
             [
              0.4444444444444444,
              "#bd3786"
             ],
             [
              0.5555555555555556,
              "#d8576b"
             ],
             [
              0.6666666666666666,
              "#ed7953"
             ],
             [
              0.7777777777777778,
              "#fb9f3a"
             ],
             [
              0.8888888888888888,
              "#fdca26"
             ],
             [
              1,
              "#f0f921"
             ]
            ],
            "type": "heatmap"
           }
          ],
          "heatmapgl": [
           {
            "colorbar": {
             "outlinewidth": 0,
             "ticks": ""
            },
            "colorscale": [
             [
              0,
              "#0d0887"
             ],
             [
              0.1111111111111111,
              "#46039f"
             ],
             [
              0.2222222222222222,
              "#7201a8"
             ],
             [
              0.3333333333333333,
              "#9c179e"
             ],
             [
              0.4444444444444444,
              "#bd3786"
             ],
             [
              0.5555555555555556,
              "#d8576b"
             ],
             [
              0.6666666666666666,
              "#ed7953"
             ],
             [
              0.7777777777777778,
              "#fb9f3a"
             ],
             [
              0.8888888888888888,
              "#fdca26"
             ],
             [
              1,
              "#f0f921"
             ]
            ],
            "type": "heatmapgl"
           }
          ],
          "histogram": [
           {
            "marker": {
             "pattern": {
              "fillmode": "overlay",
              "size": 10,
              "solidity": 0.2
             }
            },
            "type": "histogram"
           }
          ],
          "histogram2d": [
           {
            "colorbar": {
             "outlinewidth": 0,
             "ticks": ""
            },
            "colorscale": [
             [
              0,
              "#0d0887"
             ],
             [
              0.1111111111111111,
              "#46039f"
             ],
             [
              0.2222222222222222,
              "#7201a8"
             ],
             [
              0.3333333333333333,
              "#9c179e"
             ],
             [
              0.4444444444444444,
              "#bd3786"
             ],
             [
              0.5555555555555556,
              "#d8576b"
             ],
             [
              0.6666666666666666,
              "#ed7953"
             ],
             [
              0.7777777777777778,
              "#fb9f3a"
             ],
             [
              0.8888888888888888,
              "#fdca26"
             ],
             [
              1,
              "#f0f921"
             ]
            ],
            "type": "histogram2d"
           }
          ],
          "histogram2dcontour": [
           {
            "colorbar": {
             "outlinewidth": 0,
             "ticks": ""
            },
            "colorscale": [
             [
              0,
              "#0d0887"
             ],
             [
              0.1111111111111111,
              "#46039f"
             ],
             [
              0.2222222222222222,
              "#7201a8"
             ],
             [
              0.3333333333333333,
              "#9c179e"
             ],
             [
              0.4444444444444444,
              "#bd3786"
             ],
             [
              0.5555555555555556,
              "#d8576b"
             ],
             [
              0.6666666666666666,
              "#ed7953"
             ],
             [
              0.7777777777777778,
              "#fb9f3a"
             ],
             [
              0.8888888888888888,
              "#fdca26"
             ],
             [
              1,
              "#f0f921"
             ]
            ],
            "type": "histogram2dcontour"
           }
          ],
          "mesh3d": [
           {
            "colorbar": {
             "outlinewidth": 0,
             "ticks": ""
            },
            "type": "mesh3d"
           }
          ],
          "parcoords": [
           {
            "line": {
             "colorbar": {
              "outlinewidth": 0,
              "ticks": ""
             }
            },
            "type": "parcoords"
           }
          ],
          "pie": [
           {
            "automargin": true,
            "type": "pie"
           }
          ],
          "scatter": [
           {
            "marker": {
             "colorbar": {
              "outlinewidth": 0,
              "ticks": ""
             }
            },
            "type": "scatter"
           }
          ],
          "scatter3d": [
           {
            "line": {
             "colorbar": {
              "outlinewidth": 0,
              "ticks": ""
             }
            },
            "marker": {
             "colorbar": {
              "outlinewidth": 0,
              "ticks": ""
             }
            },
            "type": "scatter3d"
           }
          ],
          "scattercarpet": [
           {
            "marker": {
             "colorbar": {
              "outlinewidth": 0,
              "ticks": ""
             }
            },
            "type": "scattercarpet"
           }
          ],
          "scattergeo": [
           {
            "marker": {
             "colorbar": {
              "outlinewidth": 0,
              "ticks": ""
             }
            },
            "type": "scattergeo"
           }
          ],
          "scattergl": [
           {
            "marker": {
             "colorbar": {
              "outlinewidth": 0,
              "ticks": ""
             }
            },
            "type": "scattergl"
           }
          ],
          "scattermapbox": [
           {
            "marker": {
             "colorbar": {
              "outlinewidth": 0,
              "ticks": ""
             }
            },
            "type": "scattermapbox"
           }
          ],
          "scatterpolar": [
           {
            "marker": {
             "colorbar": {
              "outlinewidth": 0,
              "ticks": ""
             }
            },
            "type": "scatterpolar"
           }
          ],
          "scatterpolargl": [
           {
            "marker": {
             "colorbar": {
              "outlinewidth": 0,
              "ticks": ""
             }
            },
            "type": "scatterpolargl"
           }
          ],
          "scatterternary": [
           {
            "marker": {
             "colorbar": {
              "outlinewidth": 0,
              "ticks": ""
             }
            },
            "type": "scatterternary"
           }
          ],
          "surface": [
           {
            "colorbar": {
             "outlinewidth": 0,
             "ticks": ""
            },
            "colorscale": [
             [
              0,
              "#0d0887"
             ],
             [
              0.1111111111111111,
              "#46039f"
             ],
             [
              0.2222222222222222,
              "#7201a8"
             ],
             [
              0.3333333333333333,
              "#9c179e"
             ],
             [
              0.4444444444444444,
              "#bd3786"
             ],
             [
              0.5555555555555556,
              "#d8576b"
             ],
             [
              0.6666666666666666,
              "#ed7953"
             ],
             [
              0.7777777777777778,
              "#fb9f3a"
             ],
             [
              0.8888888888888888,
              "#fdca26"
             ],
             [
              1,
              "#f0f921"
             ]
            ],
            "type": "surface"
           }
          ],
          "table": [
           {
            "cells": {
             "fill": {
              "color": "#EBF0F8"
             },
             "line": {
              "color": "white"
             }
            },
            "header": {
             "fill": {
              "color": "#C8D4E3"
             },
             "line": {
              "color": "white"
             }
            },
            "type": "table"
           }
          ]
         },
         "layout": {
          "annotationdefaults": {
           "arrowcolor": "#2a3f5f",
           "arrowhead": 0,
           "arrowwidth": 1
          },
          "autotypenumbers": "strict",
          "coloraxis": {
           "colorbar": {
            "outlinewidth": 0,
            "ticks": ""
           }
          },
          "colorscale": {
           "diverging": [
            [
             0,
             "#8e0152"
            ],
            [
             0.1,
             "#c51b7d"
            ],
            [
             0.2,
             "#de77ae"
            ],
            [
             0.3,
             "#f1b6da"
            ],
            [
             0.4,
             "#fde0ef"
            ],
            [
             0.5,
             "#f7f7f7"
            ],
            [
             0.6,
             "#e6f5d0"
            ],
            [
             0.7,
             "#b8e186"
            ],
            [
             0.8,
             "#7fbc41"
            ],
            [
             0.9,
             "#4d9221"
            ],
            [
             1,
             "#276419"
            ]
           ],
           "sequential": [
            [
             0,
             "#0d0887"
            ],
            [
             0.1111111111111111,
             "#46039f"
            ],
            [
             0.2222222222222222,
             "#7201a8"
            ],
            [
             0.3333333333333333,
             "#9c179e"
            ],
            [
             0.4444444444444444,
             "#bd3786"
            ],
            [
             0.5555555555555556,
             "#d8576b"
            ],
            [
             0.6666666666666666,
             "#ed7953"
            ],
            [
             0.7777777777777778,
             "#fb9f3a"
            ],
            [
             0.8888888888888888,
             "#fdca26"
            ],
            [
             1,
             "#f0f921"
            ]
           ],
           "sequentialminus": [
            [
             0,
             "#0d0887"
            ],
            [
             0.1111111111111111,
             "#46039f"
            ],
            [
             0.2222222222222222,
             "#7201a8"
            ],
            [
             0.3333333333333333,
             "#9c179e"
            ],
            [
             0.4444444444444444,
             "#bd3786"
            ],
            [
             0.5555555555555556,
             "#d8576b"
            ],
            [
             0.6666666666666666,
             "#ed7953"
            ],
            [
             0.7777777777777778,
             "#fb9f3a"
            ],
            [
             0.8888888888888888,
             "#fdca26"
            ],
            [
             1,
             "#f0f921"
            ]
           ]
          },
          "colorway": [
           "#636efa",
           "#EF553B",
           "#00cc96",
           "#ab63fa",
           "#FFA15A",
           "#19d3f3",
           "#FF6692",
           "#B6E880",
           "#FF97FF",
           "#FECB52"
          ],
          "font": {
           "color": "#2a3f5f"
          },
          "geo": {
           "bgcolor": "white",
           "lakecolor": "white",
           "landcolor": "#E5ECF6",
           "showlakes": true,
           "showland": true,
           "subunitcolor": "white"
          },
          "hoverlabel": {
           "align": "left"
          },
          "hovermode": "closest",
          "mapbox": {
           "style": "light"
          },
          "paper_bgcolor": "white",
          "plot_bgcolor": "#E5ECF6",
          "polar": {
           "angularaxis": {
            "gridcolor": "white",
            "linecolor": "white",
            "ticks": ""
           },
           "bgcolor": "#E5ECF6",
           "radialaxis": {
            "gridcolor": "white",
            "linecolor": "white",
            "ticks": ""
           }
          },
          "scene": {
           "xaxis": {
            "backgroundcolor": "#E5ECF6",
            "gridcolor": "white",
            "gridwidth": 2,
            "linecolor": "white",
            "showbackground": true,
            "ticks": "",
            "zerolinecolor": "white"
           },
           "yaxis": {
            "backgroundcolor": "#E5ECF6",
            "gridcolor": "white",
            "gridwidth": 2,
            "linecolor": "white",
            "showbackground": true,
            "ticks": "",
            "zerolinecolor": "white"
           },
           "zaxis": {
            "backgroundcolor": "#E5ECF6",
            "gridcolor": "white",
            "gridwidth": 2,
            "linecolor": "white",
            "showbackground": true,
            "ticks": "",
            "zerolinecolor": "white"
           }
          },
          "shapedefaults": {
           "line": {
            "color": "#2a3f5f"
           }
          },
          "ternary": {
           "aaxis": {
            "gridcolor": "white",
            "linecolor": "white",
            "ticks": ""
           },
           "baxis": {
            "gridcolor": "white",
            "linecolor": "white",
            "ticks": ""
           },
           "bgcolor": "#E5ECF6",
           "caxis": {
            "gridcolor": "white",
            "linecolor": "white",
            "ticks": ""
           }
          },
          "title": {
           "x": 0.05
          },
          "xaxis": {
           "automargin": true,
           "gridcolor": "white",
           "linecolor": "white",
           "ticks": "",
           "title": {
            "standoff": 15
           },
           "zerolinecolor": "white",
           "zerolinewidth": 2
          },
          "yaxis": {
           "automargin": true,
           "gridcolor": "white",
           "linecolor": "white",
           "ticks": "",
           "title": {
            "standoff": 15
           },
           "zerolinecolor": "white",
           "zerolinewidth": 2
          }
         }
        },
        "xaxis": {
         "anchor": "y",
         "domain": [
          0,
          1
         ],
         "linecolor": "rgb(204, 204, 204)",
         "linewidth": 1,
         "showgrid": true,
         "showline": true,
         "showticklabels": false,
         "tickfont": {
          "color": "rgb(82, 82, 82)",
          "family": "Arial",
          "size": 12
         },
         "ticks": "",
         "title": {
          "text": ""
         }
        },
        "yaxis": {
         "anchor": "x",
         "autorange": false,
         "domain": [
          0,
          1
         ],
         "gridcolor": "rgb(235, 236, 240)",
         "range": [
          0,
          2000
         ],
         "showgrid": false,
         "showline": false,
         "showticklabels": true,
         "title": {
          "text": "Elevation (ft)"
         },
         "zeroline": false
        }
       }
      }
     },
     "metadata": {},
     "output_type": "display_data"
    }
   ],
   "source": [
    "name = polylines_df[polylines_df.index == 3]['name'].values[0]\n",
    "distance = polylines_df[polylines_df.index == 3]['distance'].values[0]\n",
    "elev_gain = polylines_df[polylines_df.index == 3]['total_elevation_gain'].values[0]\n",
    "avg_speed = polylines_df[polylines_df.index == 3]['average_speed'].values[0]\n",
    "avg_power = polylines_df[polylines_df.index == 3]['weighted_average_watts'].values[0] \n",
    "suffer = polylines_df[polylines_df.index == 3]['suffer_score'].values[0]\n",
    "\n",
    "fig = px.line(elevation_profile_feet, x=range(len(elevation_profile_feet)), y=pd.Series(elevation_profile_feet).rolling(5).mean())\n",
    "fig.update_layout(\n",
    "        xaxis=dict(\n",
    "            showline=True,\n",
    "            showgrid=True,\n",
    "            showticklabels=False,\n",
    "            linecolor='rgb(204, 204, 204)',\n",
    "            linewidth=1,\n",
    "            ticks='',\n",
    "            tickfont=dict(\n",
    "                family='Arial',\n",
    "                size=12,\n",
    "                color='rgb(82, 82, 82)',\n",
    "            ),\n",
    "        ),\n",
    "        yaxis=dict(\n",
    "            showgrid=False,\n",
    "            zeroline=False,\n",
    "            showline=False,\n",
    "            gridcolor = 'rgb(235, 236, 240)',\n",
    "            showticklabels=True,\n",
    "            title='Elevation (ft)',\n",
    "            autorange=False,\n",
    "            range=[0, 2000],\n",
    "        ),\n",
    "        autosize=True,\n",
    "        hovermode=\"x unified\",\n",
    "        showlegend=False,\n",
    "        plot_bgcolor='rgba(0,0,0,0)',\n",
    "        xaxis_title='',\n",
    "        margin=dict(l=0, r=0, t=0, b=0),\n",
    "    )\n",
    "fig.add_annotation(text=f\"<b>RIDE STATS</b>--------------------\", \n",
    "                    align='left',\n",
    "                    showarrow=False,\n",
    "                    xref='paper',\n",
    "                    yref='paper',\n",
    "                    x=0.05,\n",
    "                    y=0.99,\n",
    ")\n",
    "fig.add_annotation(text=f\"<b>Name</b>: {name}\", \n",
    "                    align='left',\n",
    "                    showarrow=False,\n",
    "                    xref='paper',\n",
    "                    yref='paper',\n",
    "                    x=0.05,\n",
    "                    y=0.95,\n",
    ")                    \n",
    "fig.add_annotation(text=f\"<b>Distance</b>: {distance} miles\", \n",
    "                    align='left',\n",
    "                    showarrow=False,\n",
    "                    xref='paper',\n",
    "                    yref='paper',\n",
    "                    x=0.05,\n",
    "                    y=0.91,\n",
    ")\n",
    "fig.add_annotation(text=f\"<b>Elevation Gain</b>: {elev_gain} feet\", \n",
    "                    align='left',\n",
    "                    showarrow=False,\n",
    "                    xref='paper',\n",
    "                    yref='paper',\n",
    "                    x=0.05,\n",
    "                    y=0.87,\n",
    ")\n",
    "fig.add_annotation(text=f\"<b>Average Speed</b>: {avg_speed} mph\", \n",
    "                    align='left',\n",
    "                    showarrow=False,\n",
    "                    xref='paper',\n",
    "                    yref='paper',\n",
    "                    x=0.05,\n",
    "                    y=0.83,\n",
    ")     \n",
    "fig.add_annotation(text=f\"<b>Weighted Power</b>: {avg_power} Watts\", \n",
    "                    align='left',\n",
    "                    showarrow=False,\n",
    "                    xref='paper',\n",
    "                    yref='paper',\n",
    "                    x=0.05,\n",
    "                    y=0.79,\n",
    ")\n",
    "fig.add_annotation(text=f\"<b>Suffer Score</b>: {suffer.astype(int)}\", \n",
    "                    align='left',\n",
    "                    showarrow=False,\n",
    "                    xref='paper',\n",
    "                    yref='paper',\n",
    "                    x=0.05,\n",
    "                    y=0.75,\n",
    ")  \n",
    "fig.add_annotation(text=\"----------------------------------\", \n",
    "                    align='left',\n",
    "                    showarrow=False,\n",
    "                    xref='paper',\n",
    "                    yref='paper',\n",
    "                    x=0.05,\n",
    "                    y=0.71,\n",
    ")\n",
    "\n",
    "\n",
    "fig.show()"
   ]
  },
  {
   "cell_type": "code",
   "execution_count": 138,
   "metadata": {},
   "outputs": [
    {
     "data": {
      "text/plain": [
       "166.0"
      ]
     },
     "execution_count": 138,
     "metadata": {},
     "output_type": "execute_result"
    }
   ],
   "source": [
    "\n",
    "\n",
    "\n"
   ]
  }
 ],
 "metadata": {
  "interpreter": {
   "hash": "c455020b6b83f80059c08fbe401136f403527f2e37bc76f7fe3f6f217c2ab5b2"
  },
  "kernelspec": {
   "display_name": "Python 3.8.13 ('strava')",
   "language": "python",
   "name": "python3"
  },
  "language_info": {
   "codemirror_mode": {
    "name": "ipython",
    "version": 3
   },
   "file_extension": ".py",
   "mimetype": "text/x-python",
   "name": "python",
   "nbconvert_exporter": "python",
   "pygments_lexer": "ipython3",
   "version": "3.8.13"
  },
  "orig_nbformat": 4
 },
 "nbformat": 4,
 "nbformat_minor": 2
}
