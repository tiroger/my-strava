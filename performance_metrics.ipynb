{
 "cells": [
  {
   "cell_type": "code",
   "execution_count": null,
   "metadata": {},
   "outputs": [],
   "source": [
    "#############\n",
    "# LIBRARIES #\n",
    "#############\n",
    "\n",
    "from get_strava_data import my_data, process_data, bike_data, get_elevation # Functions to retrive data using strava api and process for visualizations\n",
    "\n",
    "import pandas as pd\n",
    "from pandas.api.types import CategoricalDtype\n",
    "import numpy as np\n",
    "import datetime as dt\n",
    "\n",
    "import matplotlib.pyplot as plt\n",
    "import seaborn as sns\n",
    "import plotly.express as px\n",
    "import plotly.graph_objects as go"
   ]
  },
  {
   "cell_type": "code",
   "execution_count": null,
   "metadata": {},
   "outputs": [],
   "source": [
    "# Opening activities data\n",
    "\n",
    "processed_data = pd.read_csv('./data/processed_data.csv')\n",
    "processed_data.head()"
   ]
  },
  {
   "cell_type": "code",
   "execution_count": null,
   "metadata": {},
   "outputs": [],
   "source": [
    "processed_data = processed_data[processed_data.type =='Ride']\n",
    "\n",
    "grouped_by_day_hour = processed_data.groupby(['weekday', 'hour']).agg({'id': 'count'}).reset_index()\n",
    "\n",
    "# Custom sorting weekdays starting on monday\n",
    "day_order = CategoricalDtype(['Monday', 'Tuesday', 'Wednesday', 'Thursday', 'Friday', 'Saturday', 'Sunday'], ordered=True)\n",
    "grouped_by_day_hour['weekday'] = grouped_by_day_hour['weekday'].astype(day_order)\n",
    "grouped_by_day_hour.sort_values('weekday', inplace=True)\n",
    "\n",
    "# Creating new entries for hours with no data\n",
    "mux = pd.MultiIndex.from_product([grouped_by_day_hour.weekday.unique(), range(0,24)], names=['weekday', 'hour'])\n",
    "grouped_by_day_hour = grouped_by_day_hour.set_index(['weekday', 'hour']).reindex(mux, fill_value=0).reset_index()\n",
    "\n",
    "# Pivoting table to get the number of activities per hour\n",
    "pivot_data = grouped_by_day_hour.pivot_table(index='weekday', columns='hour', values='id', aggfunc='sum')\n",
    "pivot_data.fillna(0, inplace=True)\n",
    "pivot_data\n"
   ]
  },
  {
   "cell_type": "code",
   "execution_count": null,
   "metadata": {},
   "outputs": [],
   "source": [
    "# Creating heatmap of workouts by weekday and hour\n",
    "hours_of_day = ['12a', '1am', '2am', '3am', '4am', '5am', '6am', '7am', '8am', '9am', '10am', '11am', '12pm', '1pm', '2pm', '3pm', '4pm', '5pm', '6pm', '7pm', '8pm', '9pm', '10p', '11p']\n",
    "\n",
    "fig = px.imshow(pivot_data,\n",
    "labels=dict(x=\"\", y=\"\"),\n",
    "color_continuous_scale='oranges',\n",
    "x=hours_of_day,\n",
    "aspect=\"auto\"\n",
    ")\n",
    "fig.update_xaxes(side=\"top\")\n",
    "fig.update_layout(\n",
    "    title='',\n",
    "    xaxis_nticks=8,\n",
    "    showlegend = False,\n",
    "    plot_bgcolor='rgba(0,0,0,0)')\n",
    "fig.show()"
   ]
  },
  {
   "cell_type": "code",
   "execution_count": null,
   "metadata": {},
   "outputs": [],
   "source": [
    "processed_data = processed_data[processed_data.type =='Ride']\n",
    "\n",
    "grouped_by_month_day = processed_data.groupby(['month', 'day']).agg({'id': 'count'}).reset_index()\n",
    "months = ['January', 'February', 'March', 'April', 'May', 'June', 'July', 'August', 'September', 'October', 'November', 'December']\n",
    "# Custom sorting weekdays starting on monday\n",
    "month_order = CategoricalDtype(['January', 'February', 'March', 'April', 'May', 'June', 'July', 'August', 'September', 'October', 'November', 'December'], ordered=True)\n",
    "# Converting month number to month name\n",
    "grouped_by_month_day['month'] = grouped_by_month_day['month'].apply(lambda x: months[x-1])\n",
    "grouped_by_month_day['month'] = grouped_by_month_day['month'].astype(month_order)\n",
    "grouped_by_month_day.sort_values('month', inplace=True)\n",
    "\n",
    "# # Creating new entries for hours with no data\n",
    "# mux = pd.MultiIndex.from_product([grouped_by_month_day.month.unique(), range(0,24)], names=['month', 'day'])\n",
    "# grouped_by_month_day = grouped_by_month_day.set_index(['month', 'day']).reindex(mux, fill_value=0).reset_index()\n",
    "\n",
    "# Pivoting table to get the number of activities per hour\n",
    "pivot_data_month_day = grouped_by_month_day.pivot_table(index='month', columns='day', values='id', aggfunc='sum')\n",
    "pivot_data_month_day.fillna(0, inplace=True)\n",
    "pivot_data_month_day"
   ]
  },
  {
   "cell_type": "code",
   "execution_count": null,
   "metadata": {},
   "outputs": [],
   "source": [
    "# Creating heatmap of workouts by month and day\n",
    "\n",
    "fig = px.imshow(pivot_data_month_day,\n",
    "labels=dict(x=\"\", y=\"\", color=\"Activities\"),\n",
    "color_continuous_scale='oranges',\n",
    "# x=hours_of_day,\n",
    "aspect=\"auto\"\n",
    ")\n",
    "fig.update_xaxes(side=\"top\")\n",
    "fig.update_layout(\n",
    "    title='',\n",
    "    xaxis_nticks=8,\n",
    "    showlegend = False,\n",
    "    plot_bgcolor='rgba(0,0,0,0)')\n",
    "fig.show()"
   ]
  },
  {
   "cell_type": "code",
   "execution_count": null,
   "metadata": {},
   "outputs": [],
   "source": [
    "processed_data.columns"
   ]
  },
  {
   "cell_type": "code",
   "execution_count": null,
   "metadata": {},
   "outputs": [],
   "source": [
    "######################\n",
    "# PERFORMACE METRICS #\n",
    "######################\n",
    "\n",
    "metric_1 = 'total_elevation_gain'\n",
    "metric_2 = 'total_elevation_gain'\n",
    "\n",
    "processed_data['year'] = processed_data['year'].astype(str)\n",
    "# Scatterplots\n",
    "fig = px.scatter(processed_data, x=metric_1, y=metric_2, size='distance', color='year', title='Average Speed vs Average Cadence', trendline=\"ols\")\n",
    "\n",
    "fig.update_layout(\n",
    "    title=f'{metric_1} vs {metric_2}',\n",
    "    xaxis_title=f'{metric_1}',\n",
    "    yaxis_title=f'{metric_2}',\n",
    "    plot_bgcolor='rgba(0,0,0,0)'\n",
    "    )\n"
   ]
  },
  {
   "cell_type": "code",
   "execution_count": null,
   "metadata": {},
   "outputs": [],
   "source": [
    "\n"
   ]
  },
  {
   "cell_type": "code",
   "execution_count": null,
   "metadata": {},
   "outputs": [],
   "source": []
  },
  {
   "cell_type": "code",
   "execution_count": null,
   "metadata": {},
   "outputs": [],
   "source": [
    "GOOGLE_API_KEY = st.secrets['GOOGLE_API_KEY']\n",
    "GOOGLE_API_KEY"
   ]
  },
  {
   "cell_type": "code",
   "execution_count": null,
   "metadata": {},
   "outputs": [],
   "source": []
  }
 ],
 "metadata": {
  "interpreter": {
   "hash": "c455020b6b83f80059c08fbe401136f403527f2e37bc76f7fe3f6f217c2ab5b2"
  },
  "kernelspec": {
   "display_name": "Python 3.8.13 ('strava')",
   "language": "python",
   "name": "python3"
  },
  "language_info": {
   "codemirror_mode": {
    "name": "ipython",
    "version": 3
   },
   "file_extension": ".py",
   "mimetype": "text/x-python",
   "name": "python",
   "nbconvert_exporter": "python",
   "pygments_lexer": "ipython3",
   "version": "3.8.13"
  },
  "orig_nbformat": 4
 },
 "nbformat": 4,
 "nbformat_minor": 2
}
