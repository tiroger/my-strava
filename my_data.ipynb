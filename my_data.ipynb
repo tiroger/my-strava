{
 "cells": [
  {
   "cell_type": "code",
   "execution_count": 1,
   "id": "e814b9bb-ae36-4810-b71a-9f6c7d406cf3",
   "metadata": {},
   "outputs": [],
   "source": [
    "#############\n",
    "# LIBRARIES #\n",
    "#############\n",
    "\n",
    "from get_strava_data import my_data, athlete_data, bike_data, process_data # Functions to retrive data using strava api and process for visualizations\n",
    "# from fit2gpx import StravaConverter\n",
    "\n",
    "import pandas as pd\n",
    "import numpy as np\n",
    "import datetime as dt\n",
    "\n",
    "import matplotlib.pyplot as plt\n",
    "import seaborn as sns\n",
    "import plotly.express as px\n",
    "import plotly.graph_objects as go\n",
    "\n",
    "import plotly.io as pio\n",
    "pio.renderers.default = 'notebook_connected'\n",
    "\n",
    "import os\n",
    "\n",
    "import streamlit as st\n"
   ]
  },
  {
   "cell_type": "code",
   "execution_count": 2,
   "id": "d953f6e0",
   "metadata": {},
   "outputs": [
    {
     "name": "stdout",
     "output_type": "stream",
     "text": [
      "Getting data...\n",
      "Requesting page 1...\n",
      "<Response [200]>\n",
      "Requesting page 2...\n",
      "<Response [200]>\n",
      "Requesting page 3...\n",
      "<Response [200]>\n",
      "Requesting page 4...\n",
      "<Response [200]>\n",
      "Data retrieved successfully!\n",
      "Requesting data...\n",
      "<Response [200]>\n",
      "Data retrieved successfully!\n",
      "Requesting data...\n",
      "<Response [200]>\n",
      "Data retrieved successfully!\n",
      "Requesting data...\n",
      "<Response [200]>\n",
      "Data retrieved successfully!\n",
      "Requesting data...\n",
      "<Response [200]>\n",
      "Data retrieved successfully!\n",
      "Requesting data...\n",
      "<Response [200]>\n",
      "Data retrieved successfully!\n",
      "Requesting data...\n",
      "<Response [200]>\n",
      "Data retrieved successfully!\n",
      "Requesting data...\n",
      "<Response [200]>\n",
      "Data retrieved successfully!\n",
      "Requesting data...\n",
      "<Response [200]>\n",
      "Data retrieved successfully!\n",
      "Requesting data...\n",
      "<Response [200]>\n",
      "Data retrieved successfully!\n",
      "Requesting data...\n",
      "<Response [200]>\n",
      "Data retrieved successfully!\n"
     ]
    }
   ],
   "source": [
    "##########################\n",
    "# Getting all activities #\n",
    "##########################\n",
    "\n",
    "my_data_df = my_data()\n",
    "processed_data = process_data(my_data_df)\n",
    "\n",
    "# Saving data to csv\n",
    "processed_data.to_csv('./data/processed_data.csv', index=False)\n",
    "\n",
    "#####################\n",
    "# Getting bike data #\n",
    "#####################\n",
    "\n",
    "bike_data_df = bike_data()\n",
    "bike_data_df.to_csv('./data/bike_data.csv', index=False)\n",
    "\n",
    "\n",
    "########################\n",
    "# Getting athlete data #\n",
    "########################\n",
    "\n",
    "athlete_df = athlete_data()\n",
    "athlete_df.to_csv('./data/athlete_data.csv', index=False)"
   ]
  },
  {
   "cell_type": "code",
   "execution_count": null,
   "id": "a66e55e2",
   "metadata": {},
   "outputs": [],
   "source": [
    "# Reading data from csv\n",
    "processed_data = pd.read_csv('./data/processed_data.csv')\n",
    "bike_data_df = pd.read_csv('./data/bike_data.csv')\n",
    "athlete_df = pd.read_csv('./data/athlete_data.csv')"
   ]
  },
  {
   "cell_type": "code",
   "execution_count": null,
   "id": "bc9e8cc0",
   "metadata": {},
   "outputs": [],
   "source": [
    "processed_data.head()"
   ]
  },
  {
   "cell_type": "code",
   "execution_count": null,
   "id": "da1ba233",
   "metadata": {},
   "outputs": [],
   "source": [
    "bike_data_df.head()"
   ]
  },
  {
   "cell_type": "code",
   "execution_count": null,
   "id": "1a52d27e",
   "metadata": {},
   "outputs": [],
   "source": [
    "athlete_df"
   ]
  },
  {
   "cell_type": "code",
   "execution_count": null,
   "id": "d9e00488",
   "metadata": {},
   "outputs": [],
   "source": [
    "processed_data.gear_id.unique()"
   ]
  },
  {
   "cell_type": "code",
   "execution_count": null,
   "id": "3a4a4b67",
   "metadata": {},
   "outputs": [],
   "source": [
    "bike_ids = ['b8099416', 'b4196400', 'b8615449', 'b4073790', 'b5245627', 'b8029179', 'b326351', 'b804798', 'b232108'] # [Giant TCR, Pure Fixie, Marin Headlands, Storck Scenero, Cannondale Slate, Marin Hawkhill]\n",
    "\n",
    "tcr_odometer = bike_data_df[bike_data_df.model_name == 'TCR']['converted_distance'].values[0]\n",
    "tcr_odometer"
   ]
  },
  {
   "cell_type": "code",
   "execution_count": null,
   "id": "7619d319",
   "metadata": {},
   "outputs": [],
   "source": [
    "processed_data.columns"
   ]
  },
  {
   "cell_type": "code",
   "execution_count": null,
   "id": "33def433",
   "metadata": {},
   "outputs": [],
   "source": [
    "streamlit_df = processed_data[['start_date_local', 'name', 'type', 'moving_time', 'distance', 'total_elevation_gain', 'average_speed', 'average_cadence', 'average_watts', 'average_heartrate', 'suffer_score']].copy()\n",
    "streamlit_df['start_date_local'] = pd.to_datetime(streamlit_df['start_date_local'])\n",
    "streamlit_df['start_date_local'] = streamlit_df['start_date_local'].dt.strftime('%m-%d-%Y')\n",
    "streamlit_df"
   ]
  },
  {
   "cell_type": "code",
   "execution_count": null,
   "id": "86f11067",
   "metadata": {},
   "outputs": [],
   "source": [
    "# Heatmap of activity counts\n",
    "\n",
    "time_windows = ['month', 'week', 'weekday']\n",
    "months = ['January', 'February', 'March', 'April', 'May', 'June', 'July', 'August', 'September', 'October', 'November', 'December']\n",
    "time_of_day = ['morning', 'afternoon', 'evening']\n",
    "weekdays = ['Monday', 'Tuesday', 'Wednesday', 'Thursday', 'Friday', 'Saturday', 'Sunday']\n",
    "\n",
    "processed_data['time_of_day'] = processed_data['hour'].apply(lambda x: 'morning' if x < 12 else 'afternoon' if x < 18 else 'evening')\n",
    "\n",
    "monthly_activity_counts = processed_data.groupby([time_windows[0], 'weekday', 'time_of_day']).agg({'id': 'count'}).reset_index()\n",
    "monthly_activity_counts['month'] = monthly_activity_counts[time_windows[0]].apply(lambda x: months[x-1])\n",
    "\n",
    "monthly_activity_counts\n",
    "\n",
    "# fig = px.imshow(monthly_activity_counts[['id']])\n",
    "# fig.show()"
   ]
  },
  {
   "cell_type": "code",
   "execution_count": null,
   "id": "9e07482e",
   "metadata": {},
   "outputs": [],
   "source": [
    "monthly_activity_counts['id'].values"
   ]
  },
  {
   "cell_type": "code",
   "execution_count": null,
   "id": "93eafada",
   "metadata": {},
   "outputs": [],
   "source": [
    "streamlit_df.rename(columns={'start_date_local': 'Date','name': 'Name', 'type': 'Type', 'moving_time': 'Moving Time (hours)', 'distance': 'Distance (miles)', 'total_elevation_gain': 'Elevation Gain (ft)', 'average_speed': 'Average Speed (mph)', 'average_cadence': 'Average Cadence (rpm)', 'average_watts': 'Average Watts', 'average_heartrate': 'Average Heartrate', 'suffer_score': 'Suffer Score'}, inplace=True)\n",
    "\n",
    "headerColor = '#45738F'\n",
    "rowEvenColor = 'lightgrey'\n",
    "rowOddColor = 'white'\n",
    "\n",
    "fig = go.Figure(data=[go.Table(\n",
    "    header=dict(values=list(streamlit_df.columns),\n",
    "\n",
    "                line_color='darkslategray',\n",
    "                fill_color=headerColor,\n",
    "                align=['left','center'],\n",
    "    font=dict(color='white', size=12)),\n",
    "    cells=dict(values=[streamlit_df['Date'], streamlit_df['Name'], streamlit_df['Type'], streamlit_df['Moving Time (hours)'], streamlit_df['Distance (miles)'], streamlit_df['Elevation Gain (ft)'], streamlit_df['Average Speed (mph)'], streamlit_df['Average Cadence (rpm)'], streamlit_df['Average Watts'], streamlit_df['Average Heartrate'], streamlit_df['Suffer Score']],\n",
    "               fill_color = [[rowOddColor,rowEvenColor]*len(streamlit_df.index),], font=dict(color='black', size=12), height=45,\n",
    "               align=['left','center']))\n",
    "])\n",
    "fig.show()"
   ]
  },
  {
   "cell_type": "code",
   "execution_count": null,
   "id": "62775709",
   "metadata": {},
   "outputs": [],
   "source": [
    "streamlit_df.Type.unique()"
   ]
  },
  {
   "cell_type": "code",
   "execution_count": null,
   "id": "ca049ee7",
   "metadata": {},
   "outputs": [],
   "source": [
    "today = dt.datetime.today()\n",
    "this_month = today.month\n",
    "this_year = today.year\n",
    "\n",
    "months = ['January', 'February', 'March', 'April', 'May', 'June', 'July', 'August', 'September', 'October', 'November', 'December']\n",
    "months_sofar = months[:this_month]\n",
    "\n",
    "grouped_by_year_and_month = processed_data.groupby(['year', 'month', 'type']).agg({'distance': 'sum', 'total_elevation_gain': 'sum'}).reset_index() # Group by year and month\n",
    "\n",
    "# Since not all months have data, we're creating entries for missing months and setting the distance and elevation gain to 0\n",
    "mux = pd.MultiIndex.from_product([grouped_by_year_and_month.year.unique(), grouped_by_year_and_month.type.unique(), range(1,13)], names=['year', 'type' ,'month'])\n",
    "grouped_by_year_and_month = grouped_by_year_and_month.set_index(['year', 'type', 'month']).reindex(mux, fill_value=0).reset_index()\n",
    "grouped_by_year_and_month['Cumulative Distance'] = grouped_by_year_and_month.groupby(['year', 'type'])['distance'].cumsum()\n",
    "grouped_by_year_and_month['Cumulative Elevation'] = grouped_by_year_and_month.groupby(['year', 'type'])['total_elevation_gain'].cumsum()\n",
    "\n",
    "grouped_by_year_and_month['month'] = grouped_by_year_and_month['month'].apply(lambda x: months[x -1])\n",
    "\n",
    "# Limiting data to current month\n",
    "months_left = months[this_month:]\n",
    "# Filtering out months beyond current one\n",
    "\n",
    "no_data_yet = grouped_by_year_and_month[grouped_by_year_and_month.year == this_year]\n",
    "no_data_yet = no_data_yet[no_data_yet.month.isin(months_left)]\n",
    "\n",
    "# Removing upcoming months with no data from dataframe\n",
    "grouped_by_year_and_month = grouped_by_year_and_month[~grouped_by_year_and_month.isin(no_data_yet)]\n",
    "# Dropping na years\n",
    "grouped_by_year_and_month = grouped_by_year_and_month.dropna(subset=['year'])\n",
    "\n",
    "grouped_by_year_and_month['year'] = grouped_by_year_and_month['year'].astype(int)\n",
    "\n",
    "grouped_by_year_and_month.tail(50)\n"
   ]
  },
  {
   "cell_type": "code",
   "execution_count": null,
   "id": "3ceb9a11",
   "metadata": {},
   "outputs": [],
   "source": [
    "grouped_by_year_and_month[grouped_by_year_and_month.year.isna()]"
   ]
  },
  {
   "cell_type": "code",
   "execution_count": null,
   "id": "c276da5c",
   "metadata": {},
   "outputs": [],
   "source": [
    "months_in_year = ['January', 'February', 'March', 'April', 'May', 'June', 'July', 'August', 'September', 'October', 'November', 'December']\n",
    "\n",
    "this_month = today.month\n",
    "this_year = today.year\n",
    "months_sofar = months_in_year[:this_month]\n",
    "months_sofar"
   ]
  },
  {
   "cell_type": "code",
   "execution_count": null,
   "id": "ca0b4756",
   "metadata": {},
   "outputs": [],
   "source": [
    "year_2022 = grouped_by_year_and_month[grouped_by_year_and_month.year == this_year]\n",
    "year_2022[year_2022.month.isin(months_sofar)]"
   ]
  },
  {
   "cell_type": "code",
   "execution_count": null,
   "id": "28d4333b",
   "metadata": {},
   "outputs": [],
   "source": [
    "####### #\n",
    "# GOALS #\n",
    "#########\n",
    "today = dt.datetime.today()\n",
    "months = ['January', 'February', 'March', 'April', 'May', 'June', 'July', 'August', 'September', 'October', 'November', 'December']\n",
    "this_month = dt.datetime.today().month\n",
    "\n",
    "d0 = dt.datetime(2022, 1, 1)\n",
    "d1 = dt.datetime.today()\n",
    "delta = d1 - d0\n",
    "\n",
    "days_gone_by = delta.days\n",
    "\n",
    "distance_goal = 2500\n",
    "monthly_goal = distance_goal/12\n",
    "daily_goals = distance_goal/365\n",
    "\n",
    "# Cumulative distance per day\n",
    "grouped_by_day = processed_data.groupby(['year', 'month', 'day']).agg({'distance': 'sum'}).reset_index()\n",
    "# Daily cumulative distance\n",
    "grouped_by_day['Cumulative Distance'] = grouped_by_day.groupby(['year'])['distance'].cumsum()\n",
    "\n",
    "should_be_reached = daily_goals*days_gone_by\n",
    "\n",
    "\n",
    "# today_month = months[today - 1]\n",
    "today_year = dt.datetime.today().year\n",
    "print(f\"Today's month is the {this_month}th month and year is {today_year}\")\n",
    "\n",
    "\n",
    "where_i_am = grouped_by_day[(grouped_by_day.year == today_year) & (grouped_by_day.month == this_month)]['Cumulative Distance'].max()\n",
    "print(f\"I should have reached {should_be_reached} miles. I've done {where_i_am} miles\")\n",
    "\n",
    "\n",
    "\n"
   ]
  },
  {
   "cell_type": "code",
   "execution_count": null,
   "id": "ac4c2256",
   "metadata": {},
   "outputs": [],
   "source": [
    "grouped_by_day"
   ]
  },
  {
   "cell_type": "code",
   "execution_count": null,
   "id": "65c2779a",
   "metadata": {},
   "outputs": [],
   "source": [
    "# Plotting yearly progressions\n",
    "\n",
    "metrics = ['Cumulative Distance', 'Cumulative Elevation']\n",
    "\n",
    "selected_metric = 'Cumulative Distance'\n",
    "cycling = grouped_by_year_and_month[grouped_by_year_and_month.type.isin(['Ride'])]\n",
    "fig = px.line(cycling, x='month', y=selected_metric, color='year')\n",
    "fig.show()"
   ]
  },
  {
   "cell_type": "code",
   "execution_count": null,
   "id": "1dd7b551",
   "metadata": {},
   "outputs": [],
   "source": [
    "# Plotting cummulative distance by month\n",
    "sns.lineplot(x='month', y='Cumulative Distance', data=grouped_by_year_and_month, hue='year')"
   ]
  },
  {
   "cell_type": "code",
   "execution_count": null,
   "id": "1037a30b",
   "metadata": {},
   "outputs": [],
   "source": [
    "#Comverting start_loca-date to datetime\n",
    "processed_data['start_date_local'] = pd.to_datetime(processed_data['start_date_local'])\n",
    "processed_data['start_date_local'] = processed_data['start_date_local'].dt.strftime('%m-%d-%Y')\n",
    "processed_data"
   ]
  },
  {
   "cell_type": "code",
   "execution_count": null,
   "id": "89e4aecb",
   "metadata": {},
   "outputs": [],
   "source": [
    "processed_data.columns"
   ]
  },
  {
   "cell_type": "code",
   "execution_count": null,
   "id": "6577a09a",
   "metadata": {},
   "outputs": [],
   "source": [
    "###########################\n",
    "# STRAVA LIFETIME SUMMARY #\n",
    "###########################\n",
    "\n",
    "# Total number of activities\n",
    "start_date = processed_data.year.min()\n",
    "burger_calories = 354\n",
    "total_activities = processed_data.id.count()\n",
    "num_rides = (processed_data.type == 'Ride').sum()\n",
    "num_runs = (processed_data.type == 'Workout').sum()\n",
    "distance_traveled = processed_data.distance.sum().astype(int)\n",
    "earth_circumference = 24901 # earth circumference in miles \n",
    "perc_around_the_earth = (distance_traveled / earth_circumference)\n",
    "total_kudos = processed_data.kudos_count.sum()\n",
    "total_climbing = processed_data.total_elevation_gain.sum().astype(int)\n",
    "power_output = processed_data.average_watts.sum()\n",
    "\n",
    "\n",
    "print(f'Strava user since: {start_date}')\n",
    "print(f'Total number of activities: {total_activities}')\n",
    "print(f'Total distance traveled: {\"{:,}\".format(distance_traveled)} miles or {\"{:.0%}\".format(perc_around_the_earth)} of the earth circumference')\n",
    "print(f'Total climbing: {\"{:,}\".format(total_climbing)} feet')\n",
    "\n",
    "\n",
    "print(f'Number of Rides: {num_rides}')\n",
    "print(f'Number of Runs: {num_runs}')\n",
    "\n",
    "\n",
    "# Ratio of activities by type\n",
    "processed_data['type'].value_counts(normalize=True)\n",
    "\n",
    "# Breakdown of activities by type\n",
    "processed_data['type'].value_counts()\n",
    "\n",
    "# Total distance by activity type\n",
    "total_by_activity = processed_data.groupby('type')['distance'].sum().sort_values(ascending=False)"
   ]
  },
  {
   "cell_type": "code",
   "execution_count": null,
   "id": "7f2362d3",
   "metadata": {},
   "outputs": [],
   "source": [
    "# Activities pie chart\n",
    "\n",
    "grouped_by_type = processed_data.groupby('type').agg({'type': 'count'}).rename(columns={'type': 'total'}).sort_values('total', ascending=False).reset_index()\n",
    "grouped_by_type.loc[grouped_by_type.total < 20, 'type'] = 'Other'\n",
    "\n",
    "pie_df = grouped_by_type.groupby('type').agg({'total': 'sum'}).rename(columns={'total': 'total'}).reset_index()\n",
    "\n",
    "breakdown_by_type = processed_data['type'].value_counts().sort_values(ascending=True)\n",
    "\n",
    "fig, ax = plt.subplots()\n",
    "\n",
    "explode = (0, 0, 0, 0, 0, 0, 0, 0, 0, 0, 0)\n",
    "strava_color_palette = ['#45738F', '#FC4C02', '#3A18B0', '#FFAA06', '#F5674E']\n",
    "textprops = {\"fontsize\":12, 'fontweight':'bold', 'color':'grey'}\n",
    "\n",
    "plt.pie(pie_df.total, labels=pie_df.type, autopct=lambda p: format(p, '.1f') if p>1 else None, pctdistance=0.8, colors=strava_color_palette, textprops=textprops, startangle=30)\n",
    "ax.axis('equal')\n",
    "ax.add_artist(plt.Circle((0, 0), 0.6, color='white'))\n",
    "\n",
    "for text in ax.texts:\n",
    "    text.set_color('grey')\n",
    "\n",
    "\n",
    "fig.show()"
   ]
  },
  {
   "cell_type": "code",
   "execution_count": null,
   "id": "4af4b66d",
   "metadata": {},
   "outputs": [],
   "source": [
    "pie_df"
   ]
  },
  {
   "cell_type": "code",
   "execution_count": null,
   "id": "22966716",
   "metadata": {},
   "outputs": [],
   "source": [
    "grouped_by_type = processed_data.groupby('type').agg({'type': 'count'}).rename(columns={'type': 'total'}).sort_values('total', ascending=False).reset_index()\n",
    "grouped_by_type.loc[grouped_by_type.total < 20, 'type'] = 'Other'\n",
    "\n",
    "pie_df = grouped_by_type.groupby('type').agg({'total': 'sum'}).rename(columns={'total': 'total'}).reset_index()\n",
    "\n",
    "activities = pie_df.type\n",
    "breakdown_by_type = pie_df.total\n",
    "import plotly.graph_objects as go\n",
    "fig = go.Figure(data=[go.Pie(labels=activities, values=breakdown_by_type, hole=.6)])\n",
    "fig.update_traces(textposition='inside', textinfo='percent+label')\n",
    "fig.update_layout(showlegend=False)\n",
    "fig.show()"
   ]
  },
  {
   "cell_type": "code",
   "execution_count": null,
   "id": "73c39761",
   "metadata": {},
   "outputs": [],
   "source": [
    "# Activity Breakdown by type\n",
    "# Chart of all activities by type\n",
    "\n",
    "fig = px.bar(breakdown_by_type, y=breakdown_by_type.index, x=breakdown_by_type.values, text_auto='', orientation='h') # Plotly Express\n",
    "fig.update_traces(textfont_size=12, textangle=0, textposition=\"outside\", cliponaxis=False)\n",
    "fig.update_layout(\n",
    "    yaxis_title=\"\",\n",
    "    xaxis_title=\"Total Activities\",\n",
    "    font=dict(\n",
    "        family=\"Arial\",\n",
    "        size=14,\n",
    "    ),\n",
    "    plot_bgcolor='white',\n",
    "    paper_bgcolor='#FFFFFF',\n",
    "    margin_l=0,\n",
    "    margin_r=10,\n",
    "    margin_t=0,\n",
    "    margin_b=50,\n",
    "    width=500,\n",
    "    uniformtext_minsize=8, \n",
    "    uniformtext_mode='hide',\n",
    "    hovermode=False,\n",
    "\n",
    ")\n",
    "fig.update_traces(marker_color='#FC4C02')\n",
    "                  \n",
    "fig.update_yaxes(showticklabels=True)\n",
    "fig.update_xaxes(showticklabels=False)\n",
    "fig.show()"
   ]
  },
  {
   "cell_type": "code",
   "execution_count": null,
   "id": "12531d26",
   "metadata": {},
   "outputs": [],
   "source": [
    "breakdown_by_type = list(processed_data['type'].value_counts())\n",
    "activities = list(processed_data['type'].unique())\n",
    "activities"
   ]
  }
 ],
 "metadata": {
  "interpreter": {
   "hash": "c455020b6b83f80059c08fbe401136f403527f2e37bc76f7fe3f6f217c2ab5b2"
  },
  "kernelspec": {
   "display_name": "strava",
   "language": "python",
   "name": "python3"
  },
  "language_info": {
   "codemirror_mode": {
    "name": "ipython",
    "version": 3
   },
   "file_extension": ".py",
   "mimetype": "text/x-python",
   "name": "python",
   "nbconvert_exporter": "python",
   "pygments_lexer": "ipython3",
   "version": "3.8.13"
  }
 },
 "nbformat": 4,
 "nbformat_minor": 5
}
