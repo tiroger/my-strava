{
 "cells": [
  {
   "cell_type": "code",
   "execution_count": 1,
   "id": "e814b9bb-ae36-4810-b71a-9f6c7d406cf3",
   "metadata": {},
   "outputs": [],
   "source": [
    "#############\n",
    "# LIBRARIES #\n",
    "#############\n",
    "\n",
    "from get_strava_data import my_data, process_data # Functions to retrive data using strava api and process for visualizations\n",
    "\n",
    "import pandas as pd\n",
    "import numpy as np\n",
    "import datetime as dt\n",
    "\n",
    "import matplotlib.pyplot as plt\n",
    "import seaborn as sns\n",
    "import plotly.express as px\n"
   ]
  },
  {
   "cell_type": "code",
   "execution_count": 2,
   "id": "d953f6e0",
   "metadata": {},
   "outputs": [
    {
     "name": "stdout",
     "output_type": "stream",
     "text": [
      "Getting data...\n",
      "Requesting page 1...\n",
      "<Response [200]>\n",
      "Requesting page 2...\n",
      "<Response [200]>\n",
      "Requesting page 3...\n",
      "<Response [200]>\n",
      "Requesting page 4...\n",
      "<Response [200]>\n",
      "Data retrieved successfully!\n"
     ]
    }
   ],
   "source": [
    "##########################\n",
    "# Getting all activities #\n",
    "##########################\n",
    "\n",
    "my_data_df = my_data()\n",
    "processed_data = process_data(my_data_df)\n",
    "\n",
    "# Saving data to csv\n",
    "processed_data.to_csv('./data/processed_data.csv', index=False)"
   ]
  },
  {
   "cell_type": "code",
   "execution_count": 3,
   "id": "a66e55e2",
   "metadata": {},
   "outputs": [
    {
     "data": {
      "text/html": [
       "<div>\n",
       "<style scoped>\n",
       "    .dataframe tbody tr th:only-of-type {\n",
       "        vertical-align: middle;\n",
       "    }\n",
       "\n",
       "    .dataframe tbody tr th {\n",
       "        vertical-align: top;\n",
       "    }\n",
       "\n",
       "    .dataframe thead th {\n",
       "        text-align: right;\n",
       "    }\n",
       "</style>\n",
       "<table border=\"1\" class=\"dataframe\">\n",
       "  <thead>\n",
       "    <tr style=\"text-align: right;\">\n",
       "      <th></th>\n",
       "      <th>distance</th>\n",
       "      <th>moving_time</th>\n",
       "      <th>elapsed_time</th>\n",
       "      <th>total_elevation_gain</th>\n",
       "      <th>type</th>\n",
       "      <th>id</th>\n",
       "      <th>achievement_count</th>\n",
       "      <th>kudos_count</th>\n",
       "      <th>comment_count</th>\n",
       "      <th>photo_count</th>\n",
       "      <th>...</th>\n",
       "      <th>max_heartrate</th>\n",
       "      <th>elev_high</th>\n",
       "      <th>pr_count</th>\n",
       "      <th>total_photo_count</th>\n",
       "      <th>suffer_score</th>\n",
       "      <th>year</th>\n",
       "      <th>month</th>\n",
       "      <th>day</th>\n",
       "      <th>weekday</th>\n",
       "      <th>hour</th>\n",
       "    </tr>\n",
       "  </thead>\n",
       "  <tbody>\n",
       "    <tr>\n",
       "      <th>0</th>\n",
       "      <td>18.3</td>\n",
       "      <td>1.1</td>\n",
       "      <td>1.2</td>\n",
       "      <td>128.0</td>\n",
       "      <td>Ride</td>\n",
       "      <td>6947233958</td>\n",
       "      <td>6</td>\n",
       "      <td>7</td>\n",
       "      <td>0</td>\n",
       "      <td>0</td>\n",
       "      <td>...</td>\n",
       "      <td>167.0</td>\n",
       "      <td>48.6</td>\n",
       "      <td>3</td>\n",
       "      <td>0</td>\n",
       "      <td>126.0</td>\n",
       "      <td>2022</td>\n",
       "      <td>April</td>\n",
       "      <td>7</td>\n",
       "      <td>Thursday</td>\n",
       "      <td>15</td>\n",
       "    </tr>\n",
       "    <tr>\n",
       "      <th>1</th>\n",
       "      <td>0.0</td>\n",
       "      <td>0.6</td>\n",
       "      <td>0.6</td>\n",
       "      <td>0.0</td>\n",
       "      <td>Workout</td>\n",
       "      <td>6942582364</td>\n",
       "      <td>0</td>\n",
       "      <td>5</td>\n",
       "      <td>0</td>\n",
       "      <td>0</td>\n",
       "      <td>...</td>\n",
       "      <td>164.0</td>\n",
       "      <td>NaN</td>\n",
       "      <td>0</td>\n",
       "      <td>0</td>\n",
       "      <td>59.0</td>\n",
       "      <td>2022</td>\n",
       "      <td>April</td>\n",
       "      <td>6</td>\n",
       "      <td>Wednesday</td>\n",
       "      <td>18</td>\n",
       "    </tr>\n",
       "    <tr>\n",
       "      <th>2</th>\n",
       "      <td>19.3</td>\n",
       "      <td>1.2</td>\n",
       "      <td>1.3</td>\n",
       "      <td>265.7</td>\n",
       "      <td>Ride</td>\n",
       "      <td>6937664224</td>\n",
       "      <td>14</td>\n",
       "      <td>15</td>\n",
       "      <td>0</td>\n",
       "      <td>0</td>\n",
       "      <td>...</td>\n",
       "      <td>178.0</td>\n",
       "      <td>49.2</td>\n",
       "      <td>8</td>\n",
       "      <td>0</td>\n",
       "      <td>128.0</td>\n",
       "      <td>2022</td>\n",
       "      <td>April</td>\n",
       "      <td>5</td>\n",
       "      <td>Tuesday</td>\n",
       "      <td>15</td>\n",
       "    </tr>\n",
       "    <tr>\n",
       "      <th>3</th>\n",
       "      <td>0.0</td>\n",
       "      <td>0.5</td>\n",
       "      <td>0.5</td>\n",
       "      <td>0.0</td>\n",
       "      <td>Workout</td>\n",
       "      <td>6932749848</td>\n",
       "      <td>0</td>\n",
       "      <td>3</td>\n",
       "      <td>0</td>\n",
       "      <td>0</td>\n",
       "      <td>...</td>\n",
       "      <td>164.0</td>\n",
       "      <td>NaN</td>\n",
       "      <td>0</td>\n",
       "      <td>0</td>\n",
       "      <td>34.0</td>\n",
       "      <td>2022</td>\n",
       "      <td>April</td>\n",
       "      <td>4</td>\n",
       "      <td>Monday</td>\n",
       "      <td>19</td>\n",
       "    </tr>\n",
       "    <tr>\n",
       "      <th>4</th>\n",
       "      <td>5.0</td>\n",
       "      <td>0.4</td>\n",
       "      <td>0.8</td>\n",
       "      <td>24.9</td>\n",
       "      <td>Ride</td>\n",
       "      <td>6933025280</td>\n",
       "      <td>0</td>\n",
       "      <td>5</td>\n",
       "      <td>0</td>\n",
       "      <td>0</td>\n",
       "      <td>...</td>\n",
       "      <td>145.0</td>\n",
       "      <td>23.6</td>\n",
       "      <td>0</td>\n",
       "      <td>0</td>\n",
       "      <td>10.0</td>\n",
       "      <td>2022</td>\n",
       "      <td>April</td>\n",
       "      <td>4</td>\n",
       "      <td>Monday</td>\n",
       "      <td>18</td>\n",
       "    </tr>\n",
       "  </tbody>\n",
       "</table>\n",
       "<p>5 rows × 30 columns</p>\n",
       "</div>"
      ],
      "text/plain": [
       "   distance  moving_time  elapsed_time  total_elevation_gain     type  \\\n",
       "0      18.3          1.1           1.2                 128.0     Ride   \n",
       "1       0.0          0.6           0.6                   0.0  Workout   \n",
       "2      19.3          1.2           1.3                 265.7     Ride   \n",
       "3       0.0          0.5           0.5                   0.0  Workout   \n",
       "4       5.0          0.4           0.8                  24.9     Ride   \n",
       "\n",
       "           id  achievement_count  kudos_count  comment_count  photo_count  \\\n",
       "0  6947233958                  6            7              0            0   \n",
       "1  6942582364                  0            5              0            0   \n",
       "2  6937664224                 14           15              0            0   \n",
       "3  6932749848                  0            3              0            0   \n",
       "4  6933025280                  0            5              0            0   \n",
       "\n",
       "   ...  max_heartrate  elev_high  pr_count  total_photo_count  suffer_score  \\\n",
       "0  ...          167.0       48.6         3                  0         126.0   \n",
       "1  ...          164.0        NaN         0                  0          59.0   \n",
       "2  ...          178.0       49.2         8                  0         128.0   \n",
       "3  ...          164.0        NaN         0                  0          34.0   \n",
       "4  ...          145.0       23.6         0                  0          10.0   \n",
       "\n",
       "   year  month  day    weekday  hour  \n",
       "0  2022  April    7   Thursday    15  \n",
       "1  2022  April    6  Wednesday    18  \n",
       "2  2022  April    5    Tuesday    15  \n",
       "3  2022  April    4     Monday    19  \n",
       "4  2022  April    4     Monday    18  \n",
       "\n",
       "[5 rows x 30 columns]"
      ]
     },
     "execution_count": 3,
     "metadata": {},
     "output_type": "execute_result"
    }
   ],
   "source": [
    "# Reading data from csv\n",
    "processed_data = pd.read_csv('./data/processed_data.csv')\n",
    "processed_data.head()"
   ]
  },
  {
   "cell_type": "code",
   "execution_count": null,
   "id": "6577a09a",
   "metadata": {},
   "outputs": [],
   "source": [
    "###########################\n",
    "# STRAVA LIFETIME SUMMARY #\n",
    "###########################\n",
    "\n",
    "# Total number of activities\n",
    "start_date = processed_data.year.min()\n",
    "burger_calories = 354\n",
    "total_activities = processed_data.id.count()\n",
    "num_rides = (processed_data.type == 'Ride').sum()\n",
    "num_runs = (processed_data.type == 'Workout').sum()\n",
    "distance_traveled = processed_data.distance.sum().astype(int)\n",
    "earth_circumference = 24901 # earth circumference in miles \n",
    "perc_around_the_earth = (distance_traveled / earth_circumference)\n",
    "total_kudos = processed_data.kudos_count.sum()\n",
    "\n",
    "\n",
    "print(f'Strava user since: {start_date}')\n",
    "print(f'Total number of activities: {total_activities}')\n",
    "print(f'Total distance traveled: {\"{:,}\".format(distance_traveled)} miles or {\"{:.0%}\".format(perc_around_the_earth)} of the earth circumference')\n",
    "\n",
    "print(f'Number of Rides: {num_rides}')\n",
    "print(f'Number of Runs: {num_runs}')\n",
    "\n",
    "\n",
    "# Ratio of activities by type\n",
    "processed_data['type'].value_counts(normalize=True)\n",
    "\n",
    "# Breakdown of activities by type\n",
    "processed_data['type'].value_counts()\n",
    "\n",
    "# Total distance by activity type\n",
    "total_by_activity = processed_data.groupby('type')['distance'].sum().sort_values(ascending=False)"
   ]
  },
  {
   "cell_type": "code",
   "execution_count": 15,
   "id": "73c39761",
   "metadata": {},
   "outputs": [
    {
     "data": {
      "application/vnd.plotly.v1+json": {
       "config": {
        "plotlyServerURL": "https://plot.ly"
       },
       "data": [
        {
         "alignmentgroup": "True",
         "cliponaxis": false,
         "hovertemplate": "index=%{x}<br>y=%{y}<extra></extra>",
         "legendgroup": "",
         "marker": {
          "color": "#FC4C02",
          "line": {
           "width": 1.5
          },
          "pattern": {
           "shape": ""
          }
         },
         "name": "",
         "offsetgroup": "",
         "opacity": 0.6,
         "orientation": "v",
         "showlegend": false,
         "textangle": 0,
         "textfont": {
          "size": 12
         },
         "textposition": "outside",
         "texttemplate": "%{y:.0s}",
         "type": "bar",
         "x": [
          "Ride",
          "VirtualRide",
          "Run",
          "Workout",
          "Walk",
          "WeightTraining",
          "Elliptical",
          "Yoga",
          "Swim",
          "Hike",
          "AlpineSki"
         ],
         "xaxis": "x",
         "y": [
          537,
          93,
          31,
          24,
          12,
          9,
          6,
          2,
          2,
          1,
          1
         ],
         "yaxis": "y"
        }
       ],
       "layout": {
        "barmode": "relative",
        "font": {
         "family": "Arial",
         "size": 14
        },
        "legend": {
         "tracegroupgap": 0
        },
        "margin": {
         "t": 60
        },
        "template": {
         "data": {
          "bar": [
           {
            "error_x": {
             "color": "#2a3f5f"
            },
            "error_y": {
             "color": "#2a3f5f"
            },
            "marker": {
             "line": {
              "color": "#E5ECF6",
              "width": 0.5
             },
             "pattern": {
              "fillmode": "overlay",
              "size": 10,
              "solidity": 0.2
             }
            },
            "type": "bar"
           }
          ],
          "barpolar": [
           {
            "marker": {
             "line": {
              "color": "#E5ECF6",
              "width": 0.5
             },
             "pattern": {
              "fillmode": "overlay",
              "size": 10,
              "solidity": 0.2
             }
            },
            "type": "barpolar"
           }
          ],
          "carpet": [
           {
            "aaxis": {
             "endlinecolor": "#2a3f5f",
             "gridcolor": "white",
             "linecolor": "white",
             "minorgridcolor": "white",
             "startlinecolor": "#2a3f5f"
            },
            "baxis": {
             "endlinecolor": "#2a3f5f",
             "gridcolor": "white",
             "linecolor": "white",
             "minorgridcolor": "white",
             "startlinecolor": "#2a3f5f"
            },
            "type": "carpet"
           }
          ],
          "choropleth": [
           {
            "colorbar": {
             "outlinewidth": 0,
             "ticks": ""
            },
            "type": "choropleth"
           }
          ],
          "contour": [
           {
            "colorbar": {
             "outlinewidth": 0,
             "ticks": ""
            },
            "colorscale": [
             [
              0,
              "#0d0887"
             ],
             [
              0.1111111111111111,
              "#46039f"
             ],
             [
              0.2222222222222222,
              "#7201a8"
             ],
             [
              0.3333333333333333,
              "#9c179e"
             ],
             [
              0.4444444444444444,
              "#bd3786"
             ],
             [
              0.5555555555555556,
              "#d8576b"
             ],
             [
              0.6666666666666666,
              "#ed7953"
             ],
             [
              0.7777777777777778,
              "#fb9f3a"
             ],
             [
              0.8888888888888888,
              "#fdca26"
             ],
             [
              1,
              "#f0f921"
             ]
            ],
            "type": "contour"
           }
          ],
          "contourcarpet": [
           {
            "colorbar": {
             "outlinewidth": 0,
             "ticks": ""
            },
            "type": "contourcarpet"
           }
          ],
          "heatmap": [
           {
            "colorbar": {
             "outlinewidth": 0,
             "ticks": ""
            },
            "colorscale": [
             [
              0,
              "#0d0887"
             ],
             [
              0.1111111111111111,
              "#46039f"
             ],
             [
              0.2222222222222222,
              "#7201a8"
             ],
             [
              0.3333333333333333,
              "#9c179e"
             ],
             [
              0.4444444444444444,
              "#bd3786"
             ],
             [
              0.5555555555555556,
              "#d8576b"
             ],
             [
              0.6666666666666666,
              "#ed7953"
             ],
             [
              0.7777777777777778,
              "#fb9f3a"
             ],
             [
              0.8888888888888888,
              "#fdca26"
             ],
             [
              1,
              "#f0f921"
             ]
            ],
            "type": "heatmap"
           }
          ],
          "heatmapgl": [
           {
            "colorbar": {
             "outlinewidth": 0,
             "ticks": ""
            },
            "colorscale": [
             [
              0,
              "#0d0887"
             ],
             [
              0.1111111111111111,
              "#46039f"
             ],
             [
              0.2222222222222222,
              "#7201a8"
             ],
             [
              0.3333333333333333,
              "#9c179e"
             ],
             [
              0.4444444444444444,
              "#bd3786"
             ],
             [
              0.5555555555555556,
              "#d8576b"
             ],
             [
              0.6666666666666666,
              "#ed7953"
             ],
             [
              0.7777777777777778,
              "#fb9f3a"
             ],
             [
              0.8888888888888888,
              "#fdca26"
             ],
             [
              1,
              "#f0f921"
             ]
            ],
            "type": "heatmapgl"
           }
          ],
          "histogram": [
           {
            "marker": {
             "pattern": {
              "fillmode": "overlay",
              "size": 10,
              "solidity": 0.2
             }
            },
            "type": "histogram"
           }
          ],
          "histogram2d": [
           {
            "colorbar": {
             "outlinewidth": 0,
             "ticks": ""
            },
            "colorscale": [
             [
              0,
              "#0d0887"
             ],
             [
              0.1111111111111111,
              "#46039f"
             ],
             [
              0.2222222222222222,
              "#7201a8"
             ],
             [
              0.3333333333333333,
              "#9c179e"
             ],
             [
              0.4444444444444444,
              "#bd3786"
             ],
             [
              0.5555555555555556,
              "#d8576b"
             ],
             [
              0.6666666666666666,
              "#ed7953"
             ],
             [
              0.7777777777777778,
              "#fb9f3a"
             ],
             [
              0.8888888888888888,
              "#fdca26"
             ],
             [
              1,
              "#f0f921"
             ]
            ],
            "type": "histogram2d"
           }
          ],
          "histogram2dcontour": [
           {
            "colorbar": {
             "outlinewidth": 0,
             "ticks": ""
            },
            "colorscale": [
             [
              0,
              "#0d0887"
             ],
             [
              0.1111111111111111,
              "#46039f"
             ],
             [
              0.2222222222222222,
              "#7201a8"
             ],
             [
              0.3333333333333333,
              "#9c179e"
             ],
             [
              0.4444444444444444,
              "#bd3786"
             ],
             [
              0.5555555555555556,
              "#d8576b"
             ],
             [
              0.6666666666666666,
              "#ed7953"
             ],
             [
              0.7777777777777778,
              "#fb9f3a"
             ],
             [
              0.8888888888888888,
              "#fdca26"
             ],
             [
              1,
              "#f0f921"
             ]
            ],
            "type": "histogram2dcontour"
           }
          ],
          "mesh3d": [
           {
            "colorbar": {
             "outlinewidth": 0,
             "ticks": ""
            },
            "type": "mesh3d"
           }
          ],
          "parcoords": [
           {
            "line": {
             "colorbar": {
              "outlinewidth": 0,
              "ticks": ""
             }
            },
            "type": "parcoords"
           }
          ],
          "pie": [
           {
            "automargin": true,
            "type": "pie"
           }
          ],
          "scatter": [
           {
            "marker": {
             "colorbar": {
              "outlinewidth": 0,
              "ticks": ""
             }
            },
            "type": "scatter"
           }
          ],
          "scatter3d": [
           {
            "line": {
             "colorbar": {
              "outlinewidth": 0,
              "ticks": ""
             }
            },
            "marker": {
             "colorbar": {
              "outlinewidth": 0,
              "ticks": ""
             }
            },
            "type": "scatter3d"
           }
          ],
          "scattercarpet": [
           {
            "marker": {
             "colorbar": {
              "outlinewidth": 0,
              "ticks": ""
             }
            },
            "type": "scattercarpet"
           }
          ],
          "scattergeo": [
           {
            "marker": {
             "colorbar": {
              "outlinewidth": 0,
              "ticks": ""
             }
            },
            "type": "scattergeo"
           }
          ],
          "scattergl": [
           {
            "marker": {
             "colorbar": {
              "outlinewidth": 0,
              "ticks": ""
             }
            },
            "type": "scattergl"
           }
          ],
          "scattermapbox": [
           {
            "marker": {
             "colorbar": {
              "outlinewidth": 0,
              "ticks": ""
             }
            },
            "type": "scattermapbox"
           }
          ],
          "scatterpolar": [
           {
            "marker": {
             "colorbar": {
              "outlinewidth": 0,
              "ticks": ""
             }
            },
            "type": "scatterpolar"
           }
          ],
          "scatterpolargl": [
           {
            "marker": {
             "colorbar": {
              "outlinewidth": 0,
              "ticks": ""
             }
            },
            "type": "scatterpolargl"
           }
          ],
          "scatterternary": [
           {
            "marker": {
             "colorbar": {
              "outlinewidth": 0,
              "ticks": ""
             }
            },
            "type": "scatterternary"
           }
          ],
          "surface": [
           {
            "colorbar": {
             "outlinewidth": 0,
             "ticks": ""
            },
            "colorscale": [
             [
              0,
              "#0d0887"
             ],
             [
              0.1111111111111111,
              "#46039f"
             ],
             [
              0.2222222222222222,
              "#7201a8"
             ],
             [
              0.3333333333333333,
              "#9c179e"
             ],
             [
              0.4444444444444444,
              "#bd3786"
             ],
             [
              0.5555555555555556,
              "#d8576b"
             ],
             [
              0.6666666666666666,
              "#ed7953"
             ],
             [
              0.7777777777777778,
              "#fb9f3a"
             ],
             [
              0.8888888888888888,
              "#fdca26"
             ],
             [
              1,
              "#f0f921"
             ]
            ],
            "type": "surface"
           }
          ],
          "table": [
           {
            "cells": {
             "fill": {
              "color": "#EBF0F8"
             },
             "line": {
              "color": "white"
             }
            },
            "header": {
             "fill": {
              "color": "#C8D4E3"
             },
             "line": {
              "color": "white"
             }
            },
            "type": "table"
           }
          ]
         },
         "layout": {
          "annotationdefaults": {
           "arrowcolor": "#2a3f5f",
           "arrowhead": 0,
           "arrowwidth": 1
          },
          "autotypenumbers": "strict",
          "coloraxis": {
           "colorbar": {
            "outlinewidth": 0,
            "ticks": ""
           }
          },
          "colorscale": {
           "diverging": [
            [
             0,
             "#8e0152"
            ],
            [
             0.1,
             "#c51b7d"
            ],
            [
             0.2,
             "#de77ae"
            ],
            [
             0.3,
             "#f1b6da"
            ],
            [
             0.4,
             "#fde0ef"
            ],
            [
             0.5,
             "#f7f7f7"
            ],
            [
             0.6,
             "#e6f5d0"
            ],
            [
             0.7,
             "#b8e186"
            ],
            [
             0.8,
             "#7fbc41"
            ],
            [
             0.9,
             "#4d9221"
            ],
            [
             1,
             "#276419"
            ]
           ],
           "sequential": [
            [
             0,
             "#0d0887"
            ],
            [
             0.1111111111111111,
             "#46039f"
            ],
            [
             0.2222222222222222,
             "#7201a8"
            ],
            [
             0.3333333333333333,
             "#9c179e"
            ],
            [
             0.4444444444444444,
             "#bd3786"
            ],
            [
             0.5555555555555556,
             "#d8576b"
            ],
            [
             0.6666666666666666,
             "#ed7953"
            ],
            [
             0.7777777777777778,
             "#fb9f3a"
            ],
            [
             0.8888888888888888,
             "#fdca26"
            ],
            [
             1,
             "#f0f921"
            ]
           ],
           "sequentialminus": [
            [
             0,
             "#0d0887"
            ],
            [
             0.1111111111111111,
             "#46039f"
            ],
            [
             0.2222222222222222,
             "#7201a8"
            ],
            [
             0.3333333333333333,
             "#9c179e"
            ],
            [
             0.4444444444444444,
             "#bd3786"
            ],
            [
             0.5555555555555556,
             "#d8576b"
            ],
            [
             0.6666666666666666,
             "#ed7953"
            ],
            [
             0.7777777777777778,
             "#fb9f3a"
            ],
            [
             0.8888888888888888,
             "#fdca26"
            ],
            [
             1,
             "#f0f921"
            ]
           ]
          },
          "colorway": [
           "#636efa",
           "#EF553B",
           "#00cc96",
           "#ab63fa",
           "#FFA15A",
           "#19d3f3",
           "#FF6692",
           "#B6E880",
           "#FF97FF",
           "#FECB52"
          ],
          "font": {
           "color": "#2a3f5f"
          },
          "geo": {
           "bgcolor": "white",
           "lakecolor": "white",
           "landcolor": "#E5ECF6",
           "showlakes": true,
           "showland": true,
           "subunitcolor": "white"
          },
          "hoverlabel": {
           "align": "left"
          },
          "hovermode": "closest",
          "mapbox": {
           "style": "light"
          },
          "paper_bgcolor": "white",
          "plot_bgcolor": "#E5ECF6",
          "polar": {
           "angularaxis": {
            "gridcolor": "white",
            "linecolor": "white",
            "ticks": ""
           },
           "bgcolor": "#E5ECF6",
           "radialaxis": {
            "gridcolor": "white",
            "linecolor": "white",
            "ticks": ""
           }
          },
          "scene": {
           "xaxis": {
            "backgroundcolor": "#E5ECF6",
            "gridcolor": "white",
            "gridwidth": 2,
            "linecolor": "white",
            "showbackground": true,
            "ticks": "",
            "zerolinecolor": "white"
           },
           "yaxis": {
            "backgroundcolor": "#E5ECF6",
            "gridcolor": "white",
            "gridwidth": 2,
            "linecolor": "white",
            "showbackground": true,
            "ticks": "",
            "zerolinecolor": "white"
           },
           "zaxis": {
            "backgroundcolor": "#E5ECF6",
            "gridcolor": "white",
            "gridwidth": 2,
            "linecolor": "white",
            "showbackground": true,
            "ticks": "",
            "zerolinecolor": "white"
           }
          },
          "shapedefaults": {
           "line": {
            "color": "#2a3f5f"
           }
          },
          "ternary": {
           "aaxis": {
            "gridcolor": "white",
            "linecolor": "white",
            "ticks": ""
           },
           "baxis": {
            "gridcolor": "white",
            "linecolor": "white",
            "ticks": ""
           },
           "bgcolor": "#E5ECF6",
           "caxis": {
            "gridcolor": "white",
            "linecolor": "white",
            "ticks": ""
           }
          },
          "title": {
           "x": 0.05
          },
          "xaxis": {
           "automargin": true,
           "gridcolor": "white",
           "linecolor": "white",
           "ticks": "",
           "title": {
            "standoff": 15
           },
           "zerolinecolor": "white",
           "zerolinewidth": 2
          },
          "yaxis": {
           "automargin": true,
           "gridcolor": "white",
           "linecolor": "white",
           "ticks": "",
           "title": {
            "standoff": 15
           },
           "zerolinecolor": "white",
           "zerolinewidth": 2
          }
         }
        },
        "xaxis": {
         "anchor": "y",
         "domain": [
          0,
          1
         ],
         "title": {
          "text": ""
         }
        },
        "yaxis": {
         "anchor": "x",
         "domain": [
          0,
          1
         ],
         "showticklabels": false,
         "title": {
          "text": ""
         }
        }
       }
      }
     },
     "metadata": {},
     "output_type": "display_data"
    }
   ],
   "source": [
    "# Activity Breakdown by type\n",
    "# Chart of all activities by type\n",
    "breakdown_by_type = processed_data['type'].value_counts()\n",
    "\n",
    "fig = px.bar(breakdown_by_type, x=breakdown_by_type.index, y=breakdown_by_type.values, text_auto='.0s') # Plotly Express\n",
    "fig.update_traces(textfont_size=12, textangle=0, textposition=\"outside\", cliponaxis=False)\n",
    "fig.update_layout(\n",
    "    # title_text=\"Activity Breakdown\",\n",
    "    yaxis_title=\"\",\n",
    "    xaxis_title=\"\",\n",
    "    font=dict(\n",
    "        family=\"Arial\",\n",
    "        size=14,\n",
    "    )\n",
    ")\n",
    "fig.update_traces(marker_color='#FC4C02',\n",
    "                  marker_line_width=1.5, opacity=0.6)\n",
    "                  \n",
    "fig.update_yaxes(showticklabels=False)\n",
    "fig.show()"
   ]
  },
  {
   "cell_type": "code",
   "execution_count": 11,
   "id": "f8ef55fb",
   "metadata": {},
   "outputs": [
    {
     "data": {
      "text/plain": [
       "<BarContainer object of 11 artists>"
      ]
     },
     "execution_count": 11,
     "metadata": {},
     "output_type": "execute_result"
    },
    {
     "data": {
      "image/png": "[encoded data removed]",
      "text/plain": [
       "<Figure size 720x360 with 1 Axes>"
      ]
     },
     "metadata": {
      "needs_background": "light"
     },
     "output_type": "display_data"
    }
   ],
   "source": [
    "# Bar graph of breakdown by type\n",
    "fig = plt.figure(figsize=(10,5))\n",
    "ax = fig.add_subplot(111)\n",
    "ax.bar(breakdown_by_type.index, breakdown_by_type.values)"
   ]
  },
  {
   "cell_type": "code",
   "execution_count": null,
   "id": "d2572a30",
   "metadata": {},
   "outputs": [],
   "source": [
    "# Grouping data by year, month and weekday\n",
    "activities_df['cumulative_distance'] = activities_df.groupby(['year', 'month', 'weekday']).agg({'distance': 'cumsum'})\n",
    "activities_df\n"
   ]
  },
  {
   "cell_type": "code",
   "execution_count": null,
   "id": "029d6e99",
   "metadata": {},
   "outputs": [],
   "source": [
    "kjoule_to_cal = 0.239006 # 1 kjoule = 0.239006 calories\n",
    "# Converting kjoule to calories\n",
    "activities_df['calories'] = activities_df['kilojoules'] * kjoule_to_cal"
   ]
  },
  {
   "cell_type": "code",
   "execution_count": null,
   "id": "7f86220d",
   "metadata": {},
   "outputs": [],
   "source": [
    "activities_df"
   ]
  },
  {
   "cell_type": "markdown",
   "id": "11d5b4b0",
   "metadata": {},
   "source": []
  },
  {
   "cell_type": "code",
   "execution_count": null,
   "id": "ab19096f",
   "metadata": {},
   "outputs": [],
   "source": [
    "#################\n",
    "# DATA ANALYSIS #\n",
    "#################\n",
    "\n",
    "# Total number of activities\n",
    "start_date = activities_df.year.min()\n",
    "burger_calories = 354\n",
    "total_activities = activities_df.id.count()\n",
    "total_calories = activities_df.calories.sum()\n",
    "burgers_burned = total_calories / burger_calories\n",
    "\n",
    "\n",
    "\n",
    "print(f'Total number of activities since {start_date}: {total_activities}')\n",
    "print(f'Total calories burned: {total_activities} or {burgers_burned} burgers!')\n",
    "\n",
    "# Ratio of activities by type\n",
    "activities_df['type'].value_counts(normalize=True)\n",
    "\n",
    "# Breakdown of activities by type\n",
    "activities_df['type'].value_counts()\n",
    "\n",
    "# Total distance by activity type\n",
    "total_by_activity = activities_df.groupby('type')['distance'].sum().sort_values(ascending=False)"
   ]
  },
  {
   "cell_type": "code",
   "execution_count": null,
   "id": "78ae8fce",
   "metadata": {},
   "outputs": [],
   "source": [
    "activities_df.head()"
   ]
  },
  {
   "cell_type": "code",
   "execution_count": null,
   "id": "088ba917",
   "metadata": {},
   "outputs": [],
   "source": [
    "activities_df.columns"
   ]
  },
  {
   "cell_type": "code",
   "execution_count": null,
   "id": "da97cb0b",
   "metadata": {},
   "outputs": [],
   "source": []
  },
  {
   "cell_type": "code",
   "execution_count": null,
   "id": "89dd79d9",
   "metadata": {},
   "outputs": [],
   "source": [
    "total_by_activity"
   ]
  },
  {
   "cell_type": "code",
   "execution_count": null,
   "id": "020ee2fe",
   "metadata": {},
   "outputs": [],
   "source": [
    "\n",
    "\n",
    "\n",
    "# x=activities_df.groupby(['type'])['type'].count()\n",
    "# y=len(activities_df)\n",
    "# r=((x/y)).round(2)\n",
    "\n",
    "# mf_ratio = pd.DataFrame(r).T\n",
    "# mf_ratio"
   ]
  },
  {
   "cell_type": "code",
   "execution_count": null,
   "id": "af73f45a",
   "metadata": {},
   "outputs": [],
   "source": [
    "\n",
    "fig, ax = plt.subplots(1,1,figsize=(6.5, 2.5))\n",
    "\n",
    "ax.barh(mf_ratio.index, mf_ratio['Ride'], \n",
    "        color='#b20710', alpha=0.9, label='Male')\n",
    "ax.barh(mf_ratio.index, mf_ratio['Run'], left=mf_ratio['Ride'], \n",
    "        color='#221f1f', alpha=0.9, label='Female')\n",
    "\n",
    "ax.set_xlim(0, 1)\n",
    "ax.set_xticks([])\n",
    "ax.set_yticks([])\n",
    "#ax.set_yticklabels(mf_ratio.index, fontfamily='serif', fontsize=11)\n",
    "\n",
    "\n",
    "# movie percentage\n",
    "for i in mf_ratio.index:\n",
    "    ax.annotate(f\"{int(mf_ratio['Ride'][i]*100)}%\", \n",
    "                   xy=(mf_ratio['Ride'][i]/2, i),\n",
    "                   va = 'center', ha='center',fontsize=40, fontweight='light', fontfamily='serif',\n",
    "                   color='white')\n",
    "\n",
    "    ax.annotate(\"Ride\", \n",
    "                   xy=(mf_ratio['Ride'][i]/2, -0.25),\n",
    "                   va = 'center', ha='center',fontsize=15, fontweight='light', fontfamily='serif',\n",
    "                   color='white')\n",
    "    \n",
    "    \n",
    "for i in mf_ratio.index:\n",
    "    ax.annotate(f\"{int(mf_ratio['Run'][i]*100)}%\", \n",
    "                   xy=(mf_ratio['Ride'][i]+mf_ratio['Run'][i]/2, i),\n",
    "                   va = 'center', ha='center',fontsize=40, fontweight='light', fontfamily='serif',\n",
    "                   color='white')\n",
    "    ax.annotate(\"Run\", \n",
    "                   xy=(mf_ratio['Ride'][i]+mf_ratio['Run'][i]/2, -0.25),\n",
    "                   va = 'center', ha='center',fontsize=15, fontweight='light', fontfamily='serif',\n",
    "                   color='white')\n",
    "\n",
    "\n",
    "\n",
    "\n",
    "\n",
    "\n",
    "# Title & Subtitle\n",
    "fig.text(0.125,1.03,'Ride & Run distribution', fontfamily='serif',fontsize=15, fontweight='bold')\n",
    "fig.text(0.125,0.92,'We see vastly more movies than Runs on Netflix.',fontfamily='serif',fontsize=12)  \n",
    "\n",
    "for s in ['top', 'left', 'right', 'bottom']:\n",
    "    ax.spines[s].set_visible(False)\n",
    "    \n",
    "\n",
    "\n",
    "#ax.legend(loc='lower center', ncol=3, bbox_to_anchor=(0.5, -0.06))\n",
    "\n",
    "# Removing legend due to labelled plot\n",
    "ax.legend().set_visible(False)\n",
    "plt.show()"
   ]
  },
  {
   "cell_type": "code",
   "execution_count": null,
   "id": "6edc646d",
   "metadata": {},
   "outputs": [],
   "source": [
    "# Grouping by activity type\n",
    "grouped_by_type = activies_df.groupby(['Activity Type', 'Year', 'Month']).agg({'Activity ID': 'count', 'Distance':'sum', 'Elapsed Time':'sum', 'Calories':'sum'}).reset_index()\n",
    "rides = grouped_by_type[grouped_by_type['Activity Type'] == 'Ride']\n",
    "rides.head()"
   ]
  },
  {
   "cell_type": "code",
   "execution_count": null,
   "id": "bed916be",
   "metadata": {},
   "outputs": [],
   "source": [
    "# Calculating cummulative sum of distance and elapsed time\n",
    "rides['Cummulative Distance'] = rides.groupby(['Year']).agg({'Distance': 'cumsum'})\n",
    "rides['Cummulative Calories'] = rides.groupby(['Year']).agg({'Calories': 'cumsum'})\n",
    "rides.tail()"
   ]
  },
  {
   "cell_type": "code",
   "execution_count": null,
   "id": "c21b548a",
   "metadata": {},
   "outputs": [],
   "source": [
    "fig = px.line(rides, x=\"Month\", y=\"Cummulative Distance\", color='Year', markers=True)\n",
    "fig.show()"
   ]
  },
  {
   "cell_type": "code",
   "execution_count": null,
   "id": "b483ed08",
   "metadata": {},
   "outputs": [],
   "source": [
    "grouped_by_bike = activies_df.groupby('Activity Gear').agg({'Distance':'sum'}).sort_values(by='Distance', ascending=False).reset_index()\n",
    "grouped_by_bike"
   ]
  },
  {
   "cell_type": "code",
   "execution_count": null,
   "id": "589557e7",
   "metadata": {},
   "outputs": [],
   "source": [
    "fig = px.bar(grouped_by_bike, x='Activity Gear', y='Distance', color='Activity Gear')\n",
    "fig"
   ]
  },
  {
   "cell_type": "code",
   "execution_count": null,
   "id": "c6017a08",
   "metadata": {},
   "outputs": [],
   "source": [
    "###########################\n",
    "# UNSUPERVISED CLUSTERING #\n",
    "###########################\n",
    "\n"
   ]
  }
 ],
 "metadata": {
  "interpreter": {
   "hash": "c455020b6b83f80059c08fbe401136f403527f2e37bc76f7fe3f6f217c2ab5b2"
  },
  "kernelspec": {
   "display_name": "strava",
   "language": "python",
   "name": "python3"
  },
  "language_info": {
   "codemirror_mode": {
    "name": "ipython",
    "version": 3
   },
   "file_extension": ".py",
   "mimetype": "text/x-python",
   "name": "python",
   "nbconvert_exporter": "python",
   "pygments_lexer": "ipython3",
   "version": "3.8.12"
  }
 },
 "nbformat": 4,
 "nbformat_minor": 5
}
